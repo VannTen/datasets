{
 "cells": [
  {
   "cell_type": "markdown",
   "metadata": {
    "toc": true
   },
   "source": [
    "<h1>Table of Contents<span class=\"tocSkip\"></span></h1>\n",
    "<div class=\"toc\"><ul class=\"toc-item\"><li><span><a href=\"#Context\" data-toc-modified-id=\"Context-1\"><span class=\"toc-item-num\">1&nbsp;&nbsp;</span>Context</a></span></li><li><span><a href=\"#Goal\" data-toc-modified-id=\"Goal-2\"><span class=\"toc-item-num\">2&nbsp;&nbsp;</span>Goal</a></span></li><li><span><a href=\"#Content\" data-toc-modified-id=\"Content-3\"><span class=\"toc-item-num\">3&nbsp;&nbsp;</span>Content</a></span></li><li><span><a href=\"#How-you-can-use-the-Data\" data-toc-modified-id=\"How-you-can-use-the-Data-4\"><span class=\"toc-item-num\">4&nbsp;&nbsp;</span>How you can use the Data</a></span></li><li><span><a href=\"#Import-packages\" data-toc-modified-id=\"Import-packages-5\"><span class=\"toc-item-num\">5&nbsp;&nbsp;</span>Import packages</a></span></li><li><span><a href=\"#Retrieve-the-data\" data-toc-modified-id=\"Retrieve-the-data-6\"><span class=\"toc-item-num\">6&nbsp;&nbsp;</span>Retrieve the data</a></span></li><li><span><a href=\"#Explore-one-inspection-batch-and-inspection-report\" data-toc-modified-id=\"Explore-one-inspection-batch-and-inspection-report-7\"><span class=\"toc-item-num\">7&nbsp;&nbsp;</span>Explore one inspection batch and inspection report</a></span></li><li><span><a href=\"#Analysis-of-inspection-batches\" data-toc-modified-id=\"Analysis-of-inspection-batches-8\"><span class=\"toc-item-num\">8&nbsp;&nbsp;</span>Analysis of inspection batches</a></span><ul class=\"toc-item\"><li><span><a href=\"#Error-analysis\" data-toc-modified-id=\"Error-analysis-8.1\"><span class=\"toc-item-num\">8.1&nbsp;&nbsp;</span>Error analysis</a></span></li><li><span><a href=\"#Interpolated-Data\" data-toc-modified-id=\"Interpolated-Data-8.2\"><span class=\"toc-item-num\">8.2&nbsp;&nbsp;</span>Interpolated Data</a></span><ul class=\"toc-item\"><li><span><a href=\"#Standard-Deviation-analysis\" data-toc-modified-id=\"Standard-Deviation-analysis-8.2.1\"><span class=\"toc-item-num\">8.2.1&nbsp;&nbsp;</span>Standard Deviation analysis</a></span></li></ul></li></ul></li><li><span><a href=\"#Create-reports-from-inspections\" data-toc-modified-id=\"Create-reports-from-inspections-9\"><span class=\"toc-item-num\">9&nbsp;&nbsp;</span>Create reports from inspections</a></span></li><li><span><a href=\"#Visualize-performance-analysis-for-software-stacks\" data-toc-modified-id=\"Visualize-performance-analysis-for-software-stacks-10\"><span class=\"toc-item-num\">10&nbsp;&nbsp;</span>Visualize performance analysis for software stacks</a></span><ul class=\"toc-item\"><li><span><a href=\"#Create-plots\" data-toc-modified-id=\"Create-plots-10.1\"><span class=\"toc-item-num\">10.1&nbsp;&nbsp;</span>Create plots</a></span><ul class=\"toc-item\"><li><span><a href=\"#Plots-inputs\" data-toc-modified-id=\"Plots-inputs-10.1.1\"><span class=\"toc-item-num\">10.1.1&nbsp;&nbsp;</span>Plots inputs</a></span></li><li><span><a href=\"#TensorFlow\" data-toc-modified-id=\"TensorFlow-10.1.2\"><span class=\"toc-item-num\">10.1.2&nbsp;&nbsp;</span>TensorFlow</a></span></li><li><span><a href=\"#PyTorch\" data-toc-modified-id=\"PyTorch-10.1.3\"><span class=\"toc-item-num\">10.1.3&nbsp;&nbsp;</span>PyTorch</a></span></li><li><span><a href=\"#Tensorflow-vs-Pytorch\" data-toc-modified-id=\"Tensorflow-vs-Pytorch-10.1.4\"><span class=\"toc-item-num\">10.1.4&nbsp;&nbsp;</span>Tensorflow vs Pytorch</a></span></li></ul></li></ul></li></ul></div>"
   ]
  },
  {
   "cell_type": "markdown",
   "metadata": {},
   "source": [
    "# Context\n",
    "\n",
    "Thoth Performance Dataset is part of a series of datasets related to observations regarding software stacks (e.g. dependency tree, installability, performance, security, health) as part of [Project Thoth](https://thoth-station.ninja/). All these datasets can be found also [here](https://github.com/thoth-station/datasets) where they are described and explored to facilitate their use. All these observations are created with different components which are part of [Project Thoth](https://thoth-station.ninja/) and stored in Thoth Knowledge Graph which is used by [Thoth Adviser](https://github.com/thoth-station/adviser) to provide advises on software stacks depending on User requirements."
   ]
  },
  {
   "cell_type": "markdown",
   "metadata": {
    "ExecuteTime": {
     "end_time": "2020-06-03T07:09:10.000944Z",
     "start_time": "2020-06-03T07:09:09.989778Z"
    }
   },
   "source": [
    "# Goal\n",
    "The goal is to provide datasets widely available and useful for data scientists. Thoth Team within the office of the CTO at Red Hat has collected datasets that can be made open source within the IT domain for training Machine Learning models."
   ]
  },
  {
   "cell_type": "markdown",
   "metadata": {},
   "source": [
    "# Content\n",
    "Thoth Performance Dataset has been created with one of the components of Thoth called [Amun](https://github.com/thoth-station/amun-api). This service acts as an execution engine for Thoth where applications are built and tested using [Thoth Performance Indicators (PI)](https://github.com/thoth-station/performance). Amun can be scheduled through another component in Thoth called [Dependency Monkey](https://github.com/thoth-station/adviser/blob/master/docs/source/dependency_monkey.rst). This component aims to automatically verify software stacks and aggregate relevant observations. Thoth Performance Dataset contains tests on performance for software stacks for different types of applications (e.g Machine Learning).\n"
   ]
  },
  {
   "cell_type": "markdown",
   "metadata": {
    "tags": []
   },
   "source": [
    "# How you can use the Data\n",
    "You can download and use this data for free for your own purpose, all we ask is three things\n",
    "\n",
    "* you cite Thoth Team as the source if you use the data,\n",
    "* you accept that you are solely responsible for how you use the data\n",
    "* you do not sell this data to anyone, it is free!"
   ]
  },
  {
   "cell_type": "markdown",
   "metadata": {},
   "source": [
    "# Set environment variables to access the datasets on Ceph"
   ]
  },
  {
   "cell_type": "markdown",
   "metadata": {},
   "source": [
    "For more detail on the Operate First Ceph public bucket used here, visit https://www.operate-first.cloud/apps/content/odh/trino/access_public_bucket.html"
   ]
  },
  {
   "cell_type": "code",
   "execution_count": null,
   "metadata": {},
   "outputs": [],
   "source": [
    "%env THOTH_CEPH_KEY_ID=LLEzCoxu7pvjzO4inoL8\n",
    "%env THOTH_CEPH_SECRET_KEY=1HnDVoIS2jt3h3xEpgeQlCX5+FeOUH0wOrvWVvZP\n",
    "%env THOTH_CEPH_BUCKET_PREFIX=thoth\n",
    "%env THOTH_S3_ENDPOINT_URL=https://s3-openshift-storage.apps.smaug.na.operate-first.cloud\n",
    "%env THOTH_CEPH_BUCKET=opf-datacatalog\n",
    "%env THOTH_DEPLOYMENT_NAME=datasets"
   ]
  },
  {
   "cell_type": "markdown",
   "metadata": {},
   "source": [
    "# Import packages"
   ]
  },
  {
   "cell_type": "code",
   "execution_count": null,
   "metadata": {
    "ExecuteTime": {
     "end_time": "2020-06-19T08:14:56.544623Z",
     "start_time": "2020-06-19T08:14:54.676643Z"
    }
   },
   "outputs": [],
   "source": [
    "from thoth.report_processing.components.inspection import AmunInspections\n",
    "from thoth.report_processing.components.inspection import AmunInspectionsSummary\n",
    "from thoth.report_processing.components.inspection import AmunInspectionsStatistics\n",
    "from thoth.report_processing.components.inspection import AmunInspectionsFailedSummary\n",
    "\n",
    "inspection = AmunInspections()\n",
    "inspection_runs_summary = AmunInspectionsSummary()\n",
    "inspection_statistics = AmunInspectionsStatistics()\n",
    "inspections_failed_sumary = AmunInspectionsFailedSummary()\n",
    "\n",
    "import pandas as pd\n",
    "pd.set_option('display.max_rows', 500)\n",
    "pd.set_option('display.max_columns', 1000)\n",
    "pd.set_option('display.width', 1500)\n",
    "pd.options.plotting.backend = \"plotly\"  # Convert to matplotlib"
   ]
  },
  {
   "cell_type": "markdown",
   "metadata": {},
   "source": [
    "Every inspection obtained with Argo workflow through Amun (when successfull) has the following structure:\n",
    "\n",
    "- `inspection id`\n",
    "    - **build**\n",
    "        - *Dockerfile*\n",
    "        - *log*\n",
    "        - *specification*\n",
    "    - **results**\n",
    "        - **0**\n",
    "            - *hwinfo*\n",
    "            - *log*\n",
    "            - *result*\n",
    "        - **1**\n",
    "            - *hwinfo*\n",
    "            - *log*\n",
    "            - *result*\n",
    "\n",
    "where total results depends on the `batch_size` selected when running Amun."
   ]
  },
  {
   "cell_type": "code",
   "execution_count": null,
   "metadata": {
    "ExecuteTime": {
     "end_time": "2020-06-19T09:11:05.838713Z",
     "start_time": "2020-06-19T09:11:05.322426Z"
    },
    "scrolled": true
   },
   "outputs": [],
   "source": [
    "inspection_runs = inspection.aggregate_thoth_inspections_results(\n",
    "    store_files=['specification', 'build_logs', 'job_logs', 'hardware_info', 'results']\n",
    ")"
   ]
  },
  {
   "cell_type": "code",
   "execution_count": null,
   "metadata": {
    "ExecuteTime": {
     "end_time": "2020-06-19T09:11:20.013653Z",
     "start_time": "2020-06-19T09:11:06.355623Z"
    },
    "scrolled": true
   },
   "outputs": [],
   "source": [
    "inspection_run = inspection_runs['inspection-iotf-1-conv1d-2a71492d']"
   ]
  },
  {
   "cell_type": "markdown",
   "metadata": {},
   "source": [
    "# Explore one inspection batch and inspection report"
   ]
  },
  {
   "cell_type": "markdown",
   "metadata": {
    "ExecuteTime": {
     "end_time": "2020-06-09T09:33:21.782909Z",
     "start_time": "2020-06-09T09:33:21.777914Z"
    }
   },
   "source": [
    "Each inspection batch is created using Amun directly or started through Dependency Monkey, which is scheduling different inspection batches depending on the purpose of the analysis. \n",
    "\n",
    "The inputs that can be provided to Amun API are:\n",
    "    \n",
    "* **Base Image** (e.g. rhel8, ubi8, thoth-ubi8-python36)\n",
    "* **RPMs/Debian packages List**\n",
    "* **Pinned Down Software Stack** (Pipfile/Pipfile.lock)\n",
    "* **Hardware Requirement** (e.g. CPU only, GPU)\n",
    "* **Performance Indicator (PI) and parameters**"
   ]
  },
  {
   "cell_type": "code",
   "execution_count": null,
   "metadata": {
    "ExecuteTime": {
     "end_time": "2020-06-19T09:10:51.123320Z",
     "start_time": "2020-06-19T09:10:51.116220Z"
    }
   },
   "outputs": [],
   "source": [
    "inspection_batch_report = inspection_run['results'][0]['result']"
   ]
  },
  {
   "cell_type": "markdown",
   "metadata": {},
   "source": [
    "In each result it is possible to find the following info:\n",
    "* **start_datetime**, when the inspection started;\n",
    "* **end_datetime**, when the inspection ended;\n",
    "* **document_id**, Document ID;\n",
    "* **identifier**, Inspection identifier;\n",
    "* **hwinfo**, hardware information where the inspection has been run;\n",
    "    * **cpu_features**, flags, Frequency, l1, l2 ,l3 cache sizes [KB];\n",
    "    * **cpu_info**, CPU info (e.g brand, vendor_id, family, model);\n",
    "    * **cpu_type**, flags identifying CPU Type (e.g. 'is_XEON': True);\n",
    "    * **platform**;\n",
    "        * **architecture**;\n",
    "        * **machine**;\n",
    "        * **node**;\n",
    "        * **platform**;\n",
    "        * **release**;\n",
    "        * **version**;\n",
    "        * **processor**;\n",
    "* **os_release**, OS info taken from `\"/etc/os-release\"`;\n",
    "* **runtime_environment**, runtime environment info;\n",
    "    * **cuda_version**, CUDA version;\n",
    "    * **hardware**, HW info, cpu family and model;\n",
    "    * **operating_system**, OS name and version;\n",
    "    * **python_version**;\n",
    "* **script_sha256**, unique ID of the Performance Indicator used;\n",
    "* **stdout**;\n",
    "    * **@parameters**, parameters specific of the PI;\n",
    "    * **@results**, results after running the PI (rate[GFLOPS] and elapsed time [ms]);\n",
    "    * **component**, for what component or library (e.g tensorflow, pytorch);\n",
    "    * **name**, name of the PI (e.g. PiConv2D);\n",
    "    * **{component}_buildinfo**, build info for the specific component (e.g AICoE Tensorflow);\n",
    "* **requirements**, e.g Pipfile;\n",
    "* **requirements_locked** e.g Pipfile.lock;\n",
    "* **stderr**;\n",
    "* **exit_code**;\n",
    "* **usage** resource usage for a process or child as given by resource.getrusage() https://docs.python.org/3.6/library/resource.html#resource.getrusage;"
   ]
  },
  {
   "cell_type": "markdown",
   "metadata": {},
   "source": [
    "# Analysis of inspection results"
   ]
  },
  {
   "cell_type": "code",
   "execution_count": null,
   "metadata": {
    "ExecuteTime": {
     "end_time": "2020-06-19T09:10:53.578405Z",
     "start_time": "2020-06-19T09:10:53.575864Z"
    }
   },
   "outputs": [],
   "source": [
    "processed_inspection_runs, failed_inspection_runs = inspection.process_inspection_runs(\n",
    "    inspection_runs,\n",
    ")"
   ]
  },
  {
   "cell_type": "code",
   "execution_count": null,
   "metadata": {},
   "outputs": [],
   "source": [
    "for inspection processed_inspection_runs"
   ]
  },
  {
   "cell_type": "code",
   "execution_count": null,
   "metadata": {},
   "outputs": [],
   "source": [
    "inspections_df = inspection.create_inspections_dataframe(\n",
    "    processed_inspection_runs=processed_inspection_runs,\n",
    ")"
   ]
  },
  {
   "cell_type": "code",
   "execution_count": null,
   "metadata": {
    "scrolled": true
   },
   "outputs": [],
   "source": [
    "inspections_df.head()"
   ]
  },
  {
   "cell_type": "markdown",
   "metadata": {},
   "source": [
    "# Create reports from inspections"
   ]
  },
  {
   "cell_type": "code",
   "execution_count": null,
   "metadata": {
    "ExecuteTime": {
     "end_time": "2020-06-19T09:14:46.347118Z",
     "start_time": "2020-06-19T09:14:46.247164Z"
    },
    "scrolled": true
   },
   "outputs": [],
   "source": [
    "report_results, _ = inspection_runs_summary.produce_summary_report(inspections_df=inspections_df)"
   ]
  },
  {
   "cell_type": "markdown",
   "metadata": {},
   "source": [
    "## Hardware"
   ]
  },
  {
   "cell_type": "code",
   "execution_count": null,
   "metadata": {
    "ExecuteTime": {
     "end_time": "2020-06-19T09:14:46.446664Z",
     "start_time": "2020-06-19T09:14:46.419443Z"
    }
   },
   "outputs": [],
   "source": [
    "report_results[\"hardware\"]['platform'].head()"
   ]
  },
  {
   "cell_type": "code",
   "execution_count": null,
   "metadata": {
    "ExecuteTime": {
     "end_time": "2020-06-19T09:14:46.631438Z",
     "start_time": "2020-06-19T09:14:46.601225Z"
    },
    "scrolled": true
   },
   "outputs": [],
   "source": [
    "report_results[\"hardware\"]['processor']"
   ]
  },
  {
   "cell_type": "code",
   "execution_count": null,
   "metadata": {
    "ExecuteTime": {
     "end_time": "2020-06-19T09:14:46.787540Z",
     "start_time": "2020-06-19T09:14:46.778172Z"
    }
   },
   "outputs": [],
   "source": [
    "report_results[\"hardware\"]['flags']"
   ]
  },
  {
   "cell_type": "code",
   "execution_count": null,
   "metadata": {
    "ExecuteTime": {
     "end_time": "2020-06-19T09:14:47.823559Z",
     "start_time": "2020-06-19T09:14:47.799724Z"
    }
   },
   "outputs": [],
   "source": [
    "report_results[\"hardware\"]['ncpus']"
   ]
  },
  {
   "cell_type": "code",
   "execution_count": null,
   "metadata": {},
   "outputs": [],
   "source": [
    "report_results[\"hardware\"]['info']"
   ]
  },
  {
   "cell_type": "markdown",
   "metadata": {},
   "source": [
    "## Operating System"
   ]
  },
  {
   "cell_type": "code",
   "execution_count": null,
   "metadata": {},
   "outputs": [],
   "source": [
    "report_results[\"base_image\"]['base_image']"
   ]
  },
  {
   "cell_type": "code",
   "execution_count": null,
   "metadata": {},
   "outputs": [],
   "source": [
    "report_results[\"base_image\"]['number_cpus_run']"
   ]
  },
  {
   "cell_type": "markdown",
   "metadata": {},
   "source": [
    "## Performance Indicators"
   ]
  },
  {
   "cell_type": "code",
   "execution_count": null,
   "metadata": {},
   "outputs": [],
   "source": [
    "report_results[\"pi\"]['pi']"
   ]
  },
  {
   "cell_type": "markdown",
   "metadata": {},
   "source": [
    "# Software Stack"
   ]
  },
  {
   "cell_type": "code",
   "execution_count": null,
   "metadata": {},
   "outputs": [],
   "source": [
    "report_results[\"software_stack\"]['requirements_locked'].head()"
   ]
  },
  {
   "cell_type": "code",
   "execution_count": null,
   "metadata": {},
   "outputs": [],
   "source": [
    "python_packages_dataframe, _ = inspection.create_python_package_df(inspections_df=inspections_df)\n",
    "python_packages_dataframe.head()"
   ]
  }
 ],
 "metadata": {
  "kernelspec": {
   "display_name": "Python 3 (ipykernel)",
   "language": "python",
   "name": "python3"
  },
  "language_info": {
   "codemirror_mode": {
    "name": "ipython",
    "version": 3
   },
   "file_extension": ".py",
   "mimetype": "text/x-python",
   "name": "python",
   "nbconvert_exporter": "python",
   "pygments_lexer": "ipython3",
   "version": "3.8.6"
  },
  "toc": {
   "base_numbering": 1,
   "nav_menu": {},
   "number_sections": true,
   "sideBar": true,
   "skip_h1_title": false,
   "title_cell": "Table of Contents",
   "title_sidebar": "Contents",
   "toc_cell": true,
   "toc_position": {},
   "toc_section_display": true,
   "toc_window_display": true
  }
 },
 "nbformat": 4,
 "nbformat_minor": 4
}
