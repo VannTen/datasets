{
 "cells": [
  {
   "cell_type": "markdown",
   "metadata": {},
   "source": [
    "# Performance TensorFlow==2.1.0 Software Stack Combinations Errors\n",
    "\n",
    "The purpose of this notebook is to show the errors present in software stacks during run using PIimport."
   ]
  },
  {
   "cell_type": "markdown",
   "metadata": {},
   "source": [
    "## Inputs for Dataset created using Amun\n",
    "\n",
    "All data have been gathered using [Amun Service](https://github.com/thoth-station/amun-api) and [Performance Indicators](https://github.com/thoth-station/performance) evaluated by Thoth Team.\n",
    "\n",
    "\n",
    "## TensorFlow builds\n",
    "\n",
    "Tensorflow builds have been created considering combinations of the following parameters:\n",
    "\n",
    "**Software stacks and native dependencies**\n",
    "\n",
    "All inspections use a combination of all stacks from the dependencies of TensorFlow in version 2.1.0. \n",
    "\n",
    "\n",
    "  * `upstream TensorFlow` - `tensorflow==2.1.0` available on PyPI (inspections prefixed with `tf`)\n",
    "\n",
    "**OS images**\n",
    "\n",
    "  * `rhel-8` \n",
    "\n",
    "**Python Interpreters**\n",
    "\n",
    "  * `3.6` \n",
    "  \n",
    "**Hardware**\n",
    "\n",
    "No node pinning used, any hardware available on OCP is used. No GPU was used. \n",
    "Analysis across inspection run will show which hardware have been identified.\n",
    "\n",
    "`Number of CPUs` used to run is selected a priori as input to Amun: 1\n",
    "\n",
    "## Performance indicators\n",
    "Performance Indicators (PI) used for performance analysis:\n",
    "\n",
    "  * [import](https://github.com/thoth-station/performance/blob/master/tensorflow/import.py)\n",
    "\n",
    "Each performance indicator was run `1 times` per inspection run (`batch size == 1`), performance indicators reported median of inspections to be further compared.\n",
    "\n",
    "## Dataset content\n",
    "\n",
    "Inspection specification, build logs, job logs, hardware information of the node where the performance indicator was run and the actual inspection job result are included in the dataset.\n",
    "\n",
    "No buildtime errors spotted with the tested stack.\n",
    "\n",
    "There are some runtime errors spotted with specific stack.\n",
    "\n",
    "\n",
    "## Analysis\n",
    "\n",
    "Analysis show which versions exactly failed during run, so that Thoth can discard packages failing during run."
   ]
  },
  {
   "cell_type": "markdown",
   "metadata": {},
   "source": [
    "## Assign environment variables and import libraries"
   ]
  },
  {
   "cell_type": "code",
   "execution_count": null,
   "metadata": {},
   "outputs": [],
   "source": [
    "%env THOTH_CEPH_KEY_ID=LLEzCoxu7pvjzO4inoL8\n",
    "%env THOTH_CEPH_SECRET_KEY=1HnDVoIS2jt3h3xEpgeQlCX5+FeOUH0wOrvWVvZP\n",
    "%env THOTH_CEPH_BUCKET_PREFIX=thoth\n",
    "%env THOTH_S3_ENDPOINT_URL=https://s3-openshift-storage.apps.smaug.na.operate-first.cloud\n",
    "%env THOTH_CEPH_BUCKET=opf-datacatalog\n",
    "%env THOTH_DEPLOYMENT_NAME=datasets"
   ]
  },
  {
   "cell_type": "code",
   "execution_count": null,
   "metadata": {},
   "outputs": [],
   "source": [
    "from thoth.report_processing.components.inspection import AmunInspections\n",
    "from thoth.report_processing.components.inspection import AmunInspectionsSummary\n",
    "from thoth.report_processing.components.inspection import AmunInspectionsStatistics\n",
    "from thoth.report_processing.components.inspection import AmunInspectionsFailedSummary\n",
    "\n",
    "inspection = AmunInspections()\n",
    "inspection_runs_summary = AmunInspectionsSummary()\n",
    "inspection_statistics = AmunInspectionsStatistics()\n",
    "inspection_failed_summary = AmunInspectionsFailedSummary()\n",
    "\n",
    "import pandas as pd\n",
    "pd.set_option('display.max_rows', 500)\n",
    "pd.set_option('display.max_columns', 1000)\n",
    "pd.set_option('display.width', 1500)\n",
    "pd.set_option('display.max_colwidth', 400)\n",
    "pd.options.plotting.backend = \"plotly\"  # Convert to matplotlib"
   ]
  },
  {
   "cell_type": "code",
   "execution_count": null,
   "metadata": {
    "tags": [
     "parameters"
    ]
   },
   "outputs": [],
   "source": [
    "inspections_identifiers = ['tf-dm-six']  # List of identifiers for the analysis"
   ]
  },
  {
   "cell_type": "markdown",
   "metadata": {},
   "source": [
    "## Retrieve and process data"
   ]
  },
  {
   "cell_type": "code",
   "execution_count": null,
   "metadata": {},
   "outputs": [],
   "source": [
    "inspection_runs = inspection.aggregate_thoth_inspections_results(\n",
    "    inspections_identifiers=inspections_identifiersS\n",
    ")"
   ]
  },
  {
   "cell_type": "code",
   "execution_count": null,
   "metadata": {},
   "outputs": [],
   "source": [
    "processed_inspection_runs, failed_inspection_runs = inspection.process_inspection_runs(\n",
    "    inspection_runs,\n",
    ")"
   ]
  },
  {
   "cell_type": "code",
   "execution_count": null,
   "metadata": {},
   "outputs": [],
   "source": [
    "inspections_df = inspection.create_inspections_dataframe(\n",
    "    processed_inspection_runs=processed_inspection_runs,\n",
    "    include_statistics=True\n",
    ")"
   ]
  },
  {
   "cell_type": "code",
   "execution_count": null,
   "metadata": {
    "scrolled": true
   },
   "outputs": [],
   "source": [
    "inspections_df.head()"
   ]
  },
  {
   "cell_type": "markdown",
   "metadata": {},
   "source": [
    "# Inspections summary report"
   ]
  },
  {
   "cell_type": "code",
   "execution_count": null,
   "metadata": {},
   "outputs": [],
   "source": [
    "report_results, _ = inspection_runs_summary.produce_summary_report(inspections_df=inspections_df)"
   ]
  },
  {
   "cell_type": "markdown",
   "metadata": {},
   "source": [
    "## Hardware"
   ]
  },
  {
   "cell_type": "code",
   "execution_count": null,
   "metadata": {},
   "outputs": [],
   "source": [
    "report_results[\"hardware\"]['platform'].head()"
   ]
  },
  {
   "cell_type": "code",
   "execution_count": null,
   "metadata": {},
   "outputs": [],
   "source": [
    "report_results[\"hardware\"]['processor']"
   ]
  },
  {
   "cell_type": "code",
   "execution_count": null,
   "metadata": {},
   "outputs": [],
   "source": [
    "report_results[\"hardware\"]['flags']"
   ]
  },
  {
   "cell_type": "code",
   "execution_count": null,
   "metadata": {},
   "outputs": [],
   "source": [
    "report_results[\"hardware\"]['ncpus']"
   ]
  },
  {
   "cell_type": "code",
   "execution_count": null,
   "metadata": {},
   "outputs": [],
   "source": [
    "report_results[\"hardware\"]['info']"
   ]
  },
  {
   "cell_type": "markdown",
   "metadata": {},
   "source": [
    "## Operating System"
   ]
  },
  {
   "cell_type": "code",
   "execution_count": null,
   "metadata": {},
   "outputs": [],
   "source": [
    "report_results[\"base_image\"]['base_image']"
   ]
  },
  {
   "cell_type": "code",
   "execution_count": null,
   "metadata": {},
   "outputs": [],
   "source": [
    "report_results[\"base_image\"]['number_cpus_run']"
   ]
  },
  {
   "cell_type": "markdown",
   "metadata": {},
   "source": [
    "## Performance Indicator"
   ]
  },
  {
   "cell_type": "code",
   "execution_count": null,
   "metadata": {},
   "outputs": [],
   "source": [
    "report_results[\"pi\"]['pi']"
   ]
  },
  {
   "cell_type": "markdown",
   "metadata": {},
   "source": [
    "## Software Stack"
   ]
  },
  {
   "cell_type": "code",
   "execution_count": null,
   "metadata": {},
   "outputs": [],
   "source": [
    "report_results[\"software_stack\"]['requirements_locked'].head()"
   ]
  },
  {
   "cell_type": "code",
   "execution_count": null,
   "metadata": {},
   "outputs": [],
   "source": [
    "python_packages_dataframe, python_packages_versions = inspection.create_python_package_df(inspections_df=inspections_df)\n",
    "python_packages_dataframe.head()"
   ]
  },
  {
   "cell_type": "markdown",
   "metadata": {},
   "source": [
    "# Failed Inspection Summary"
   ]
  },
  {
   "cell_type": "code",
   "execution_count": null,
   "metadata": {},
   "outputs": [],
   "source": [
    "failed_inspections_df = inspection.create_inspections_dataframe(\n",
    "    processed_inspection_runs=failed_inspection_runs,\n",
    ")"
   ]
  },
  {
   "cell_type": "code",
   "execution_count": null,
   "metadata": {
    "scrolled": true
   },
   "outputs": [],
   "source": [
    "failed_inspections_df.head()"
   ]
  },
  {
   "cell_type": "code",
   "execution_count": null,
   "metadata": {},
   "outputs": [],
   "source": [
    "comparison_df = inspection_failed_summary.show_software_stack_differences(\n",
    "    inspections_df,\n",
    "    failed_inspections_df\n",
    ")\n",
    "comparison_df"
   ]
  },
  {
   "cell_type": "code",
   "execution_count": null,
   "metadata": {},
   "outputs": [],
   "source": [
    "comparison_df[comparison_df['package'].isin(['six', 'urllib3'])]"
   ]
  }
 ],
 "metadata": {
  "kernelspec": {
   "display_name": "Python 3 (ipykernel)",
   "language": "python",
   "name": "python3"
  },
  "language_info": {
   "codemirror_mode": {
    "name": "ipython",
    "version": 3
   },
   "file_extension": ".py",
   "mimetype": "text/x-python",
   "name": "python",
   "nbconvert_exporter": "python",
   "pygments_lexer": "ipython3",
   "version": "3.8.6"
  }
 },
 "nbformat": 4,
 "nbformat_minor": 4
}
