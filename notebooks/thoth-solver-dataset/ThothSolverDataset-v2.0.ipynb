{
 "cells": [
  {
   "cell_type": "markdown",
   "id": "48594c8b",
   "metadata": {},
   "source": [
    "# Thoth-solver dataset"
   ]
  },
  {
   "cell_type": "markdown",
   "id": "6463c4be",
   "metadata": {},
   "source": [
    "- Contains datasets of software stacks observations. \n",
    "- Provides information about dependency tree, installability, performance, security, etc.\n",
    "- All of them were created by various parts of Project Thoth and are stored in Thoth Knowledge Graph.\n",
    "- Was created by [Thoth Dependency Solver](https://github.com/thoth-station/solver) and answers the question:\n",
    "\n",
    "    What packages will be installed for the provided stack?"
   ]
  },
  {
   "cell_type": "markdown",
   "id": "db4d2d3f",
   "metadata": {},
   "source": [
    "Following dataset can be easily accessed through:\n",
    "- [Thoth datasets github](https://github.com/thoth-station/datasets/tree/master/notebooks/thoth-solver-dataset)\n",
    "- [Kaggle](https://www.kaggle.com/thothstation/thoth-solver-dataset-v10)\n"
   ]
  },
  {
   "cell_type": "markdown",
   "id": "2b692056",
   "metadata": {},
   "source": [
    "## Goal "
   ]
  },
  {
   "cell_type": "markdown",
   "id": "4a9705ff",
   "metadata": {},
   "source": [
    "The ultimate goals is to provide useful and easily available datasets for data scientist to train Machine Learning models."
   ]
  },
  {
   "cell_type": "markdown",
   "id": "758828ca",
   "metadata": {},
   "source": [
    "## How to use the Data"
   ]
  },
  {
   "cell_type": "markdown",
   "id": "72bfd0f5",
   "metadata": {},
   "source": [
    "In order to use provided data:\n",
    "- cite Thoth Team as the source if you use the data\n",
    "- accept that you are solely responsible of how you use the data and\n",
    "- do not sell this data to anyone, it is free!"
   ]
  },
  {
   "cell_type": "markdown",
   "id": "6baedb9b-f195-4574-a7be-b871a54b973c",
   "metadata": {},
   "source": [
    "# Set environment variables to access the datasets on Ceph"
   ]
  },
  {
   "cell_type": "markdown",
   "id": "99d49096-3572-4517-8d1e-5c96c99e064b",
   "metadata": {},
   "source": [
    "For more detail on the Operate First Ceph public bucket used here, visit https://www.operate-first.cloud/apps/content/odh/trino/access_public_bucket.html"
   ]
  },
  {
   "cell_type": "code",
   "execution_count": null,
   "id": "bca8a608-0b14-48d8-b341-aa05016f8e40",
   "metadata": {},
   "outputs": [],
   "source": [
    "%env THOTH_CEPH_KEY_ID=LLEzCoxu7pvjzO4inoL8\n",
    "%env THOTH_CEPH_SECRET_KEY=1HnDVoIS2jt3h3xEpgeQlCX5+FeOUH0wOrvWVvZP\n",
    "%env THOTH_CEPH_BUCKET_PREFIX=thoth\n",
    "%env THOTH_S3_ENDPOINT_URL=https://s3-openshift-storage.apps.smaug.na.operate-first.cloud\n",
    "%env THOTH_CEPH_BUCKET=opf-datacatalog\n",
    "%env THOTH_DEPLOYMENT_NAME=datasets"
   ]
  },
  {
   "cell_type": "markdown",
   "id": "8ce64016",
   "metadata": {},
   "source": [
    "## Import packages"
   ]
  },
  {
   "cell_type": "code",
   "execution_count": null,
   "id": "fe9fcc36",
   "metadata": {},
   "outputs": [],
   "source": [
    "from thoth.report_processing.components.solver import Solver\n",
    "import pandas as pd"
   ]
  },
  {
   "cell_type": "markdown",
   "id": "79fd074e",
   "metadata": {},
   "source": [
    "## Access the data"
   ]
  },
  {
   "cell_type": "code",
   "execution_count": null,
   "id": "0611781e",
   "metadata": {},
   "outputs": [],
   "source": [
    "solver_reports = Solver.aggregate_solver_results()"
   ]
  },
  {
   "cell_type": "markdown",
   "id": "468bc5e6",
   "metadata": {},
   "source": [
    "## Access one solver report"
   ]
  },
  {
   "cell_type": "markdown",
   "id": "b5a42515",
   "metadata": {},
   "source": [
    "Each of reports is created for a specific package and solved using a certain solver.\n",
    "\n",
    "In this context **solver** example is solver-fedora-34-py-39 that is named after:\n",
    "- operating system used (e.g. Fedora 34)\n",
    "- Python interpreter installed (e.g. Python 3.9)\n",
    "\n",
    "on which **specified Python package** will be installed."
   ]
  },
  {
   "cell_type": "code",
   "execution_count": null,
   "id": "273e6794",
   "metadata": {},
   "outputs": [],
   "source": [
    "solver_report = solver_reports['solver-rhel-8-py38-210712140154-9e9eab93c147ecab']\n"
   ]
  },
  {
   "cell_type": "markdown",
   "id": "af89d310",
   "metadata": {},
   "source": [
    "Every solver run result consists of:\n",
    "- **metadata** that has information of dependency solver itself\n",
    "- **result** that has actual inputs and outputs of solver"
   ]
  },
  {
   "cell_type": "code",
   "execution_count": null,
   "id": "fa72922c",
   "metadata": {},
   "outputs": [],
   "source": [
    "solver_report"
   ]
  },
  {
   "cell_type": "markdown",
   "id": "ae299a60",
   "metadata": {},
   "source": [
    "## Metadata"
   ]
  },
  {
   "cell_type": "markdown",
   "id": "413ad990",
   "metadata": {},
   "source": [
    "Solver report metadata has following information:\n",
    "- **analyzer**, name of the analyzer;\n",
    "- **analyzer_version**, analyzer version;\n",
    "- **arguments**, arguments for the analyzer;\n",
    "    - **python** specific inputs regarding the package to be analyzed (aka solved in this case);\n",
    "    - **dependency-solver** specific inputs;\n",
    "- **datetime**, when the solver report has been created;\n",
    "- **distribution**, operating system specific info;\n",
    "- **document_id**, unique ID of the solver report which includes the solver used (e.g. solver-fedora-31-py37);\n",
    "- **duration**, duration of the solver run for a certain Python Package;\n",
    "- **hostname**, Container name where the solver was run;\n",
    "- **os_release**, OS info;\n",
    "- **python**, Python Inrpreter info;\n",
    "- **thoth_deployment_name**, Thoth architecture specific info;\n",
    "- **timestamp**;\n"
   ]
  },
  {
   "cell_type": "code",
   "execution_count": null,
   "id": "a307adb0",
   "metadata": {},
   "outputs": [],
   "source": [
    "pd.DataFrame([solver_report[\"metadata\"]])"
   ]
  },
  {
   "cell_type": "code",
   "execution_count": null,
   "id": "4cfc5120",
   "metadata": {},
   "outputs": [],
   "source": [
    "pd.set_option('display.max_colwidth', None)"
   ]
  },
  {
   "cell_type": "code",
   "execution_count": null,
   "id": "96181ce9",
   "metadata": {},
   "outputs": [],
   "source": [
    "pd.DataFrame([solver_report[\"metadata\"]])['arguments']"
   ]
  },
  {
   "cell_type": "code",
   "execution_count": null,
   "id": "7045efe6",
   "metadata": {},
   "outputs": [],
   "source": [
    "solver_subset_metadata = Solver.extract_data_from_solver_metadata(solver_report[\"metadata\"])\n",
    "pd.DataFrame([solver_subset_metadata])"
   ]
  },
  {
   "cell_type": "markdown",
   "id": "0aca43bc",
   "metadata": {},
   "source": [
    "## Access all available solver reports"
   ]
  },
  {
   "cell_type": "code",
   "execution_count": null,
   "id": "296495d0",
   "metadata": {},
   "outputs": [],
   "source": [
    "solver_reports_metadata = []\n",
    "for solver_document in solver_reports:\n",
    "    solver_reports_metadata.append(\n",
    "        Solver.extract_data_from_solver_metadata(solver_reports[solver_document][\"metadata\"])\n",
    "    )\n",
    "\n",
    "solver_reports_metadata_df = pd.DataFrame(solver_reports_metadata)\n",
    "\n",
    "solver_reports_metadata_df.head()"
   ]
  },
  {
   "cell_type": "markdown",
   "id": "9e2980ec",
   "metadata": {},
   "source": [
    "## Solver report result"
   ]
  },
  {
   "cell_type": "markdown",
   "id": "ff738c1f",
   "metadata": {},
   "source": [
    "Report result contains following information:\n",
    "- **environment**, information about the environment on which the package has being solved;\n",
    "- **environment_packages**, information about external packages installed on the environment;\n",
    "- **errors**, if the installation of a package was not succesfull there will be information stored for each package error;\n",
    "    - **details**,\n",
    "        - command,\n",
    "        - message,\n",
    "        - return_code,\n",
    "        - stderr,\n",
    "        - stdout,\n",
    "        - timeout,\n",
    "    - **index_url** from where the package was download;\n",
    "    - **package_name**;\n",
    "    - **package_version**;\n",
    "    - **is_provided_package**, flag for storing package;\n",
    "    - **is_provided_package_version**, flag for storing package;\n",
    "    - **type**, error type;\n",
    "- **tree**, all the packages installed in the dependency tree and information about them;\n",
    "    - **dependencies**\n",
    "    - **metadata** of the package as taken from importlib_metadata;\n",
    "    - **index_url** from where the package was download;\n",
    "    - **package_name**;\n",
    "    - **package_version**;\n",
    "    - **sha256**;\n",
    "    - **platform** description (introduced in this version)\n",
    "    - **packages** called list (introduced in this version)\n",
    "- **unparsed**, if there are packages in the tree that could not be parsed;\n",
    "- **unresolved**, if there are packages in the tree that could not be solved;\n"
   ]
  },
  {
   "cell_type": "code",
   "execution_count": null,
   "id": "2a894a03",
   "metadata": {
    "scrolled": true
   },
   "outputs": [],
   "source": [
    "pd.DataFrame([solver_report[\"result\"]])"
   ]
  },
  {
   "cell_type": "code",
   "execution_count": null,
   "id": "349ee328",
   "metadata": {},
   "outputs": [],
   "source": [
    "pd.DataFrame([solver_report[\"result\"][\"environment\"]])"
   ]
  },
  {
   "cell_type": "markdown",
   "id": "cbb21b4c",
   "metadata": {},
   "source": [
    "Look into environment packages for particular solver report"
   ]
  },
  {
   "cell_type": "code",
   "execution_count": null,
   "id": "4579649f",
   "metadata": {},
   "outputs": [],
   "source": [
    "pd.set_option('display.max_colwidth', None)"
   ]
  },
  {
   "cell_type": "code",
   "execution_count": null,
   "id": "abbc8e32",
   "metadata": {},
   "outputs": [],
   "source": [
    "env_packs = pd.DataFrame([solver_report[\"result\"][\"environment_packages\"]])"
   ]
  },
  {
   "cell_type": "code",
   "execution_count": null,
   "id": "218ebb8d",
   "metadata": {},
   "outputs": [],
   "source": [
    "print(env_packs)"
   ]
  },
  {
   "cell_type": "markdown",
   "id": "cfbdcf2d",
   "metadata": {},
   "source": [
    "## Consider all solver reports"
   ]
  },
  {
   "cell_type": "code",
   "execution_count": null,
   "id": "6491a25f",
   "metadata": {},
   "outputs": [],
   "source": [
    "solver_reports_extracted_data = []\n",
    "solver_errors = []\n",
    "for solver_document in solver_reports:\n",
    "    solver_report_extracted_data = Solver.extract_data_from_solver_metadata(\n",
    "        solver_reports[solver_document][\"metadata\"]\n",
    "    )\n",
    "    for k, v in solver_reports[solver_document][\"result\"].items():\n",
    "        solver_report_extracted_data[k] = v\n",
    "        if k == \"errors\" and v:\n",
    "            errors = Solver.extract_errors_from_solver_result(v)\n",
    "            for error in errors:\n",
    "                solver_errors.append(error)\n",
    "    \n",
    "    packages = Solver.extract_tree_from_solver_result(solver_reports[solver_document][\"result\"])\n",
    "    solver_report_extracted_data[\"packages\"] = packages\n",
    "    solver_reports_extracted_data.append(solver_report_extracted_data)"
   ]
  },
  {
   "cell_type": "code",
   "execution_count": null,
   "id": "9d49a29d",
   "metadata": {},
   "outputs": [],
   "source": [
    "solver_report[\"result\"]"
   ]
  },
  {
   "cell_type": "code",
   "execution_count": null,
   "id": "f76bd304",
   "metadata": {},
   "outputs": [],
   "source": [
    "pd.set_option('display.max_colwidth', 50)\n",
    "solver_reports_metadata_df = pd.DataFrame(solver_reports_extracted_data)\n",
    "solver_reports_metadata_df.head(10)"
   ]
  },
  {
   "cell_type": "markdown",
   "id": "987f0562",
   "metadata": {},
   "source": [
    "## Packages under different names in import"
   ]
  },
  {
   "cell_type": "markdown",
   "id": "339ae10c",
   "metadata": {},
   "source": [
    "To check packages in the ecosystem that provide modules under a different name than the package name itself we will compare data from:\n",
    "- 'requirements' \n",
    "- 'packages'"
   ]
  },
  {
   "cell_type": "code",
   "execution_count": null,
   "id": "37ce2b4c",
   "metadata": {},
   "outputs": [],
   "source": [
    "solver_reports_metadata_df.loc[212]['requirements']"
   ]
  },
  {
   "cell_type": "code",
   "execution_count": null,
   "id": "2a750099",
   "metadata": {
    "scrolled": true
   },
   "outputs": [],
   "source": [
    "solver_reports_metadata_df.loc[212]['packages']"
   ]
  },
  {
   "cell_type": "markdown",
   "id": "a6eb0b61",
   "metadata": {},
   "source": [
    "## Check all the available solver reports"
   ]
  },
  {
   "cell_type": "code",
   "execution_count": null,
   "id": "56ebe2be",
   "metadata": {
    "scrolled": true
   },
   "outputs": [],
   "source": [
    "nonmatching_packages = []\n",
    "empty_packages = []\n",
    "len_df = len(solver_reports_metadata_df)\n",
    "\n",
    "for i in range(len_df):\n",
    "    package_name_reqs_i = solver_reports_metadata_df.loc[i]['requirements'].split('==')[0]\n",
    "    \n",
    "    if len(solver_reports_metadata_df.loc[i]['packages']) == 0:\n",
    "        package_name_i = ''\n",
    "    else:   \n",
    "        package_name_i = solver_reports_metadata_df.loc[i]['packages'][0]['package_name']\n",
    "    \n",
    "    if package_name_i != package_name_reqs_i:\n",
    "#         print(\"Non-Matching\")\n",
    "        if package_name_i != '':\n",
    "            nonmatching_packages.append([package_name_reqs_i,i,package_name_i])\n",
    "            print(f'{package_name_reqs_i} != {package_name_i}')\n",
    "        else:       \n",
    "            empty_packages.append([package_name_reqs_i,i])\n",
    "            print(f'{package_name_reqs_i} and {package_name_i}')\n",
    "print(f'Number of packages that provide modules under a different name than the package name itself = {len(nonmatching_packages)} ')\n",
    "print(f'Number of packages that have no packages specified = {len(empty_packages)} ')"
   ]
  },
  {
   "cell_type": "markdown",
   "id": "4be01fd5",
   "metadata": {},
   "source": [
    "Main differences: \n",
    "- Uppercase or lowercase\n",
    "- '-' turned to '.'\n",
    "- Empty package name in packages"
   ]
  },
  {
   "cell_type": "code",
   "execution_count": null,
   "id": "34585b16",
   "metadata": {},
   "outputs": [],
   "source": [
    "nonmatching_packages"
   ]
  },
  {
   "cell_type": "code",
   "execution_count": null,
   "id": "65d02fdf",
   "metadata": {},
   "outputs": [],
   "source": [
    "empty_packages"
   ]
  },
  {
   "cell_type": "markdown",
   "id": "6fa2bac5",
   "metadata": {},
   "source": [
    "## Errors data from solver reports"
   ]
  },
  {
   "cell_type": "code",
   "execution_count": null,
   "id": "b0fca015",
   "metadata": {
    "scrolled": true
   },
   "outputs": [],
   "source": [
    "solver_total_errors_df = pd.DataFrame(solver_errors)\n",
    "\n",
    "solver_total_errors_df.head()"
   ]
  }
 ],
 "metadata": {
  "kernelspec": {
   "display_name": "Python 3 (ipykernel)",
   "language": "python",
   "name": "python3"
  },
  "language_info": {
   "codemirror_mode": {
    "name": "ipython",
    "version": 3
   },
   "file_extension": ".py",
   "mimetype": "text/x-python",
   "name": "python",
   "nbconvert_exporter": "python",
   "pygments_lexer": "ipython3",
   "version": "3.8.6"
  }
 },
 "nbformat": 4,
 "nbformat_minor": 5
}
