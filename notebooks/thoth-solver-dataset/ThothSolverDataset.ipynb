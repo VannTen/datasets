{
 "cells": [
  {
   "cell_type": "markdown",
   "metadata": {
    "toc": true
   },
   "source": [
    "<h1>Table of Contents<span class=\"tocSkip\"></span></h1>\n",
    "<div class=\"toc\"><ul class=\"toc-item\"><li><span><a href=\"#Context\" data-toc-modified-id=\"Context-1\"><span class=\"toc-item-num\">1&nbsp;&nbsp;</span>Context</a></span></li><li><span><a href=\"#Goal\" data-toc-modified-id=\"Goal-2\"><span class=\"toc-item-num\">2&nbsp;&nbsp;</span>Goal</a></span></li><li><span><a href=\"#Content\" data-toc-modified-id=\"Content-3\"><span class=\"toc-item-num\">3&nbsp;&nbsp;</span>Content</a></span></li><li><span><a href=\"#How-you-can-use-the-Data\" data-toc-modified-id=\"How-you-can-use-the-Data-4\"><span class=\"toc-item-num\">4&nbsp;&nbsp;</span>How you can use the Data</a></span></li><li><span><a href=\"#Import-packages\" data-toc-modified-id=\"Import-packages-5\"><span class=\"toc-item-num\">5&nbsp;&nbsp;</span>Import packages</a></span></li><li><span><a href=\"#Retrieve-the-data\" data-toc-modified-id=\"Retrieve-the-data-6\"><span class=\"toc-item-num\">6&nbsp;&nbsp;</span>Retrieve the data</a></span></li><li><span><a href=\"#Explore-one-solver-report\" data-toc-modified-id=\"Explore-one-solver-report-7\"><span class=\"toc-item-num\">7&nbsp;&nbsp;</span>Explore one solver report</a></span><ul class=\"toc-item\"><li><span><a href=\"#Solver-report-metadata\" data-toc-modified-id=\"Solver-report-metadata-7.1\"><span class=\"toc-item-num\">7.1&nbsp;&nbsp;</span>Solver report metadata</a></span><ul class=\"toc-item\"><li><span><a href=\"#Consider-all-solver-reports\" data-toc-modified-id=\"Consider-all-solver-reports-7.1.1\"><span class=\"toc-item-num\">7.1.1&nbsp;&nbsp;</span>Consider all solver reports</a></span></li></ul></li><li><span><a href=\"#Solver-report-result\" data-toc-modified-id=\"Solver-report-result-7.2\"><span class=\"toc-item-num\">7.2&nbsp;&nbsp;</span>Solver report result</a></span></li></ul></li><li><span><a href=\"#Consider-all-solver-reports\" data-toc-modified-id=\"Consider-all-solver-reports-8\"><span class=\"toc-item-num\">8&nbsp;&nbsp;</span>Consider all solver reports</a></span><ul class=\"toc-item\"><li><span><a href=\"#Aggregated-Data-from-solver-reports\" data-toc-modified-id=\"Aggregated-Data-from-solver-reports-8.1\"><span class=\"toc-item-num\">8.1&nbsp;&nbsp;</span>Aggregated Data from solver reports</a></span></li><li><span><a href=\"#Error-Data-from-solver-reports\" data-toc-modified-id=\"Error-Data-from-solver-reports-8.2\"><span class=\"toc-item-num\">8.2&nbsp;&nbsp;</span>Error Data from solver reports</a></span></li></ul></li></ul></div>"
   ]
  },
  {
   "cell_type": "markdown",
   "metadata": {},
   "source": [
    "# Context\n",
    "\n",
    "Thoth [Solver Dataset](https://github.com/thoth-station/datasets/blob/master/notebooks/thoth-solver-dataset/thoth-solver-dataset-v1.0.zip) is part of a series of datasets related to observations regarding software stacks (e.g. dependency tree, installability, performance, security, health) as part of [Project Thoth](https://thoth-station.ninja/). All these datasets can be found also [here](https://github.com/thoth-station/datasets) where they are described and explored to facilitate their use. All these observations are created with different components which are part of [Project Thoth](https://thoth-station.ninja/) and stored in Thoth Knowledge Graph which is used by [Thoth Adviser](https://github.com/thoth-station/adviser) to provide advises on software stacks depending on User requirements."
   ]
  },
  {
   "cell_type": "markdown",
   "metadata": {},
   "source": [
    "# Goal\n",
    "The goal is to provide datasets widely available and useful for data scientists. Thoth Team within the office of the CTO at Red Hat has collected datasets that can be made open source within the IT domain for training Machine Learning models."
   ]
  },
  {
   "cell_type": "markdown",
   "metadata": {},
   "source": [
    "# Content\n",
    "Thoth [Solver Dataset](https://github.com/thoth-station/datasets/blob/master/notebooks/thoth-solver-dataset/thoth-solver-dataset-v1.0.zip) has been created with one of the components of Thoth called [Dependency Solver](https://github.com/thoth-station/solver) which tries to answer a simple question:\n",
    "* what packages will be installed (resolved by pip or any Python compliant dependency resolver) for the provided stack?\n"
   ]
  },
  {
   "cell_type": "markdown",
   "metadata": {},
   "source": [
    "# How you can use the Data\n",
    "You can download and use this data for free for your own purpose, all we ask is three things\n",
    "\n",
    "* you cite Thoth Team as the source if you use the data,\n",
    "* you accept that you are solely responsible for how you use the data\n",
    "* you do not sell this data to anyone, it is free!"
   ]
  },
  {
   "cell_type": "markdown",
   "metadata": {},
   "source": [
    "## Set environment variables to access the datasets on Ceph"
   ]
  },
  {
   "cell_type": "markdown",
   "metadata": {},
   "source": [
    "For more detail on the Operate First Ceph public bucket used here, visit https://github.com/operate-first/apps/blob/master/docs/odh/trino/access_public_bucket.md"
   ]
  },
  {
   "cell_type": "code",
   "execution_count": null,
   "metadata": {},
   "outputs": [],
   "source": [
    "%env THOTH_CEPH_KEY_ID=LLEzCoxu7pvjzO4inoL8\n",
    "%env THOTH_CEPH_SECRET_KEY=1HnDVoIS2jt3h3xEpgeQlCX5+FeOUH0wOrvWVvZP\n",
    "%env THOTH_CEPH_BUCKET_PREFIX=thoth\n",
    "%env THOTH_S3_ENDPOINT_URL=https://s3-openshift-storage.apps.smaug.na.operate-first.cloud\n",
    "%env THOTH_CEPH_BUCKET=opf-datacatalog\n",
    "%env THOTH_DEPLOYMENT_NAME=datasets"
   ]
  },
  {
   "cell_type": "markdown",
   "metadata": {},
   "source": [
    "# Import packages"
   ]
  },
  {
   "cell_type": "code",
   "execution_count": null,
   "metadata": {
    "ExecuteTime": {
     "end_time": "2020-06-01T12:09:02.176128Z",
     "start_time": "2020-06-01T12:09:01.068401Z"
    }
   },
   "outputs": [],
   "source": [
    "from thoth.report_processing.components.solver import Solver\n",
    "import pandas as pd"
   ]
  },
  {
   "cell_type": "code",
   "execution_count": null,
   "metadata": {
    "ExecuteTime": {
     "end_time": "2020-06-01T12:09:12.463996Z",
     "start_time": "2020-06-01T12:09:05.536071Z"
    }
   },
   "outputs": [],
   "source": [
    "solver_reports = Solver.aggregate_solver_results()"
   ]
  },
  {
   "cell_type": "markdown",
   "metadata": {},
   "source": [
    "# Explore one solver report"
   ]
  },
  {
   "cell_type": "markdown",
   "metadata": {},
   "source": [
    "Each solver report is created for a specific package (e.g Python package from a certain index in a certain version),\n",
    "*solved* using a certain solver. \n",
    "\n",
    "**What is a solver?**\n",
    "In Thoth language a solver example is `solver-fedora-31-py37` which is named after:\n",
    "* **operating system** used (e.g Fedora 31)\n",
    "* **Python interpreter** installed (e.g. Python 3.7)\n",
    "\n",
    "on which the specific **Python package** is going to be installed."
   ]
  },
  {
   "cell_type": "code",
   "execution_count": null,
   "metadata": {
    "ExecuteTime": {
     "end_time": "2020-06-01T09:01:45.646956Z",
     "start_time": "2020-06-01T09:01:45.644007Z"
    }
   },
   "outputs": [],
   "source": [
    "solver_report = solver_reports['solver-fedora-31-py37-0870237d.json']"
   ]
  },
  {
   "cell_type": "markdown",
   "metadata": {
    "ExecuteTime": {
     "end_time": "2020-05-31T15:17:08.325133Z",
     "start_time": "2020-05-31T15:17:08.321324Z"
    }
   },
   "source": [
    "Each solver report is made by two main parts:\n",
    "* **metadata** where information about dependency solver itself are stored (e.g version running, type of solver)\n",
    "* **result** where the inputs and outputs of solver are actually collected "
   ]
  },
  {
   "cell_type": "markdown",
   "metadata": {
    "ExecuteTime": {
     "end_time": "2020-05-31T15:23:22.703377Z",
     "start_time": "2020-05-31T15:23:22.699852Z"
    }
   },
   "source": [
    "## Solver report metadata"
   ]
  },
  {
   "cell_type": "markdown",
   "metadata": {},
   "source": [
    "All the metadata available for each solver report are described below:\n",
    "* **analyzer**, name of the analyzer;\n",
    "* **analyzer_version**, analyzer version;\n",
    "* **arguments**, arguments for the analyzer;\n",
    "    * **python** specific inputs regarding the package to be analyzed (aka solved in this case);\n",
    "    * **dependency-solver** specific inputs;\n",
    "* **datetime**, when the solver report has been created;\n",
    "* **distribution**, operating system specific info;\n",
    "* **document_id**, unique ID of the solver report which includes the solver used (e.g. solver-fedora-31-py37);\n",
    "* **duration**, duration of the solver run for a certain Python Package;\n",
    "* **hostname**, Container name where the solver was run;\n",
    "* **os_release**, OS info;\n",
    "* **python**, Python Inrpreter info;\n",
    "* **thoth_deployment_name**, Thoth architecture specific info;\n",
    "* **timestamp**;"
   ]
  },
  {
   "cell_type": "code",
   "execution_count": null,
   "metadata": {
    "ExecuteTime": {
     "end_time": "2020-06-01T08:06:05.165047Z",
     "start_time": "2020-06-01T08:06:05.123006Z"
    }
   },
   "outputs": [],
   "source": [
    "pd.DataFrame([solver_report[\"metadata\"]])"
   ]
  },
  {
   "cell_type": "code",
   "execution_count": null,
   "metadata": {
    "ExecuteTime": {
     "end_time": "2020-06-01T08:06:07.749125Z",
     "start_time": "2020-06-01T08:06:07.732844Z"
    }
   },
   "outputs": [],
   "source": [
    "solver_subset_metadata = Solver.extract_data_from_solver_metadata(solver_report[\"metadata\"])\n",
    "pd.DataFrame([solver_subset_metadata])"
   ]
  },
  {
   "cell_type": "markdown",
   "metadata": {},
   "source": [
    "### Consider all solver reports"
   ]
  },
  {
   "cell_type": "code",
   "execution_count": null,
   "metadata": {
    "ExecuteTime": {
     "end_time": "2020-06-01T08:06:10.196166Z",
     "start_time": "2020-06-01T08:06:10.100741Z"
    }
   },
   "outputs": [],
   "source": [
    "solver_reports_metadata = []\n",
    "for solver_document in solver_reports:\n",
    "    solver_reports_metadata.append(\n",
    "        Solver.extract_data_from_solver_metadata(solver_reports[solver_document][\"metadata\"])\n",
    "    )\n",
    "\n",
    "solver_reports_metadata_df = pd.DataFrame(solver_reports_metadata)\n",
    "\n",
    "solver_reports_metadata_df.head()"
   ]
  },
  {
   "cell_type": "markdown",
   "metadata": {
    "ExecuteTime": {
     "end_time": "2020-05-31T15:34:49.636627Z",
     "start_time": "2020-05-31T15:34:49.633559Z"
    }
   },
   "source": [
    "## Solver report result"
   ]
  },
  {
   "cell_type": "markdown",
   "metadata": {},
   "source": [
    "All the result in solver report are described below:\n",
    "* **environment**, information about the environment on which the package has being solved;\n",
    "* **environment_packages**, information about external packages installed on the environment;\n",
    "* **errors**, if the installation of a package was not succesfull there will be information stored for each package error;\n",
    "    * **details**,\n",
    "        * **command**,\n",
    "        * **message**,\n",
    "        * **return_code**,\n",
    "        * **stderr**,\n",
    "        * **stdout**,\n",
    "        * **timeout**,\n",
    "    * **index_url** from where the package was download;\n",
    "    * **package_name**;\n",
    "    * **package_version**;\n",
    "    * **is_provided_package**, flag for storing package;\n",
    "    * **is_provided_package_version**, flag for storing package;\n",
    "    * **type**, error type;\n",
    "* **tree**, all the packages installed in the dependency tree and information about them;\n",
    "    * **dependencies**\n",
    "    * **metadata** of the package as taken from `importlib_metadata`;\n",
    "    * **index_url** from where the package was download;\n",
    "    * **package_name**;\n",
    "    * **package_version**;\n",
    "    * **sha256**;\n",
    "* **unparsed**, if there are packages in the tree that could not be parsed;\n",
    "* **unresolved**, if there are packages in the tree that could not be solved;"
   ]
  },
  {
   "cell_type": "code",
   "execution_count": null,
   "metadata": {
    "ExecuteTime": {
     "end_time": "2020-06-01T08:06:14.148903Z",
     "start_time": "2020-06-01T08:06:14.132115Z"
    }
   },
   "outputs": [],
   "source": [
    "pd.DataFrame([solver_report[\"result\"]])"
   ]
  },
  {
   "cell_type": "code",
   "execution_count": null,
   "metadata": {
    "ExecuteTime": {
     "end_time": "2020-06-01T08:06:16.283663Z",
     "start_time": "2020-06-01T08:06:16.271237Z"
    }
   },
   "outputs": [],
   "source": [
    "pd.DataFrame([solver_report[\"result\"][\"environment\"]])"
   ]
  },
  {
   "cell_type": "markdown",
   "metadata": {
    "ExecuteTime": {
     "end_time": "2020-05-31T19:24:22.141230Z",
     "start_time": "2020-05-31T19:24:22.138537Z"
    }
   },
   "source": [
    "# Consider all solver reports"
   ]
  },
  {
   "cell_type": "code",
   "execution_count": null,
   "metadata": {
    "ExecuteTime": {
     "end_time": "2020-06-01T08:06:18.472978Z",
     "start_time": "2020-06-01T08:06:18.336739Z"
    }
   },
   "outputs": [],
   "source": [
    "solver_reports_extracted_data = []\n",
    "solver_errors = []\n",
    "for solver_document in solver_reports:\n",
    "    solver_report_extracted_data = Solver.extract_data_from_solver_metadata(\n",
    "        solver_reports[solver_document][\"metadata\"]\n",
    "    )\n",
    "    for k, v in solver_reports[solver_document][\"result\"].items():\n",
    "        solver_report_extracted_data[k] = v\n",
    "        if k == \"errors\" and v:\n",
    "            errors = Solver.extract_errors_from_solver_result(v)\n",
    "            for error in errors:\n",
    "                solver_errors.append(error)\n",
    "    \n",
    "    packages = Solver.extract_tree_from_solver_result(solver_reports[solver_document][\"result\"])\n",
    "    solver_report_extracted_data[\"packages\"] = packages\n",
    "    solver_reports_extracted_data.append(solver_report_extracted_data)"
   ]
  },
  {
   "cell_type": "markdown",
   "metadata": {},
   "source": [
    "## Aggregated Data from solver reports"
   ]
  },
  {
   "cell_type": "code",
   "execution_count": null,
   "metadata": {
    "ExecuteTime": {
     "end_time": "2020-06-01T08:09:04.857464Z",
     "start_time": "2020-06-01T08:09:04.686272Z"
    }
   },
   "outputs": [],
   "source": [
    "solver_reports_metadata_df = pd.DataFrame(solver_reports_extracted_data)\n",
    "\n",
    "solver_reports_metadata_df.head()"
   ]
  },
  {
   "cell_type": "markdown",
   "metadata": {},
   "source": [
    "## Error Data from solver reports"
   ]
  },
  {
   "cell_type": "code",
   "execution_count": null,
   "metadata": {
    "ExecuteTime": {
     "end_time": "2020-06-01T08:08:07.254707Z",
     "start_time": "2020-06-01T08:08:07.220557Z"
    }
   },
   "outputs": [],
   "source": [
    "solver_total_errors_df = pd.DataFrame(solver_errors)\n",
    "\n",
    "solver_total_errors_df.head()"
   ]
  }
 ],
 "metadata": {
  "finalized": {
   "timestamp": 1590844296277,
   "trusted": true
  },
  "kernelspec": {
   "display_name": "Python 3 (ipykernel)",
   "language": "python",
   "name": "python3"
  },
  "language_info": {
   "codemirror_mode": {
    "name": "ipython",
    "version": 3
   },
   "file_extension": ".py",
   "mimetype": "text/x-python",
   "name": "python",
   "nbconvert_exporter": "python",
   "pygments_lexer": "ipython3",
   "version": "3.8.6"
  },
  "requirements": {
   "aliases": {},
   "packages": {},
   "requires": {
    "python_version": "3.6"
   },
   "sources": [
    {
     "name": "pypi",
     "url": "https://pypi.org/simple",
     "verify_ssl": true
    }
   ]
  },
  "toc": {
   "base_numbering": 1,
   "nav_menu": {},
   "number_sections": true,
   "sideBar": true,
   "skip_h1_title": false,
   "title_cell": "Table of Contents",
   "title_sidebar": "Contents",
   "toc_cell": true,
   "toc_position": {},
   "toc_section_display": true,
   "toc_window_display": true
  }
 },
 "nbformat": 4,
 "nbformat_minor": 4
}
