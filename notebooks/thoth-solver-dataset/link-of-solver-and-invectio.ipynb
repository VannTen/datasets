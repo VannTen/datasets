{
 "cells": [
  {
   "cell_type": "markdown",
   "id": "8ad9cb6a",
   "metadata": {},
   "source": [
    "# Analyze links of invectio and solver outputs"
   ]
  },
  {
   "cell_type": "markdown",
   "id": "3b1b6d6e-a1d1-4244-b23b-a368c060dc5a",
   "metadata": {},
   "source": [
    "## Set environment variables to access the datasets on Ceph"
   ]
  },
  {
   "cell_type": "markdown",
   "id": "38459e78-3ecd-486a-a70e-e95b2b49bb20",
   "metadata": {},
   "source": [
    "For more detail on the Operate First Ceph public bucket used here, visit https://www.operate-first.cloud/apps/content/odh/trino/access_public_bucket.html"
   ]
  },
  {
   "cell_type": "code",
   "execution_count": null,
   "id": "2b5d9013-a58e-4ccd-8ec3-6d5208932ee9",
   "metadata": {},
   "outputs": [],
   "source": [
    "%env THOTH_CEPH_KEY_ID=LLEzCoxu7pvjzO4inoL8\n",
    "%env THOTH_CEPH_SECRET_KEY=1HnDVoIS2jt3h3xEpgeQlCX5+FeOUH0wOrvWVvZP\n",
    "%env THOTH_CEPH_BUCKET_PREFIX=thoth\n",
    "%env THOTH_S3_ENDPOINT_URL=https://s3-openshift-storage.apps.smaug.na.operate-first.cloud\n",
    "%env THOTH_CEPH_BUCKET=opf-datacatalog\n",
    "%env THOTH_DEPLOYMENT_NAME=datasets"
   ]
  },
  {
   "cell_type": "markdown",
   "id": "7b5c0e4b",
   "metadata": {},
   "source": [
    "## Load modules"
   ]
  },
  {
   "cell_type": "code",
   "execution_count": null,
   "id": "d224a86e",
   "metadata": {},
   "outputs": [],
   "source": [
    "from thoth.report_processing.components.solver import Solver\n",
    "import pandas as pd"
   ]
  },
  {
   "cell_type": "markdown",
   "id": "a9aeb675",
   "metadata": {},
   "source": [
    "## Access data"
   ]
  },
  {
   "cell_type": "code",
   "execution_count": null,
   "id": "33849a46",
   "metadata": {
    "tags": []
   },
   "outputs": [],
   "source": [
    "nonmatching_reports=Solver.aggregate_solver_results()"
   ]
  },
  {
   "cell_type": "markdown",
   "id": "22356738",
   "metadata": {},
   "source": [
    "## Access all reports"
   ]
  },
  {
   "cell_type": "code",
   "execution_count": null,
   "id": "32b4635b",
   "metadata": {},
   "outputs": [],
   "source": [
    "solver_reports_metadata = []\n",
    "for solver_document in nonmatching_reports:\n",
    "    solver_reports_metadata.append(\n",
    "        Solver.extract_data_from_solver_metadata(nonmatching_reports[solver_document][\"metadata\"])\n",
    "    )\n",
    "\n",
    "solver_reports_metadata_df = pd.DataFrame(solver_reports_metadata)\n",
    "\n",
    "solver_reports_metadata_df.head()"
   ]
  },
  {
   "cell_type": "code",
   "execution_count": null,
   "id": "fd2ed325",
   "metadata": {},
   "outputs": [],
   "source": [
    "solver_reports_extracted_data = []\n",
    "solver_errors = []\n",
    "for solver_document in nonmatching_reports:\n",
    "    solver_report_extracted_data = Solver.extract_data_from_solver_metadata(\n",
    "        nonmatching_reports[solver_document][\"metadata\"]\n",
    "    )\n",
    "    for k, v in nonmatching_reports[solver_document][\"result\"].items():\n",
    "        solver_report_extracted_data[k] = v\n",
    "        if k == \"errors\" and v:\n",
    "            errors = Solver.extract_errors_from_solver_result(v)\n",
    "            for error in errors:\n",
    "                solver_errors.append(error)\n",
    "    \n",
    "    packages = Solver.extract_tree_from_solver_result(nonmatching_reports[solver_document][\"result\"])\n",
    "    solver_report_extracted_data[\"packages\"] = packages\n",
    "    solver_reports_extracted_data.append(solver_report_extracted_data)"
   ]
  },
  {
   "cell_type": "code",
   "execution_count": null,
   "id": "6b34ccba",
   "metadata": {},
   "outputs": [],
   "source": [
    "solver_reports_metadata_df = pd.DataFrame(solver_reports_extracted_data)\n",
    "solver_reports_metadata_df.head(10)"
   ]
  },
  {
   "cell_type": "markdown",
   "id": "2831dabf",
   "metadata": {},
   "source": [
    "Compared to the previous the solver-dataset v1.0 in this we have extra output of:\n",
    "- `platform` field \n",
    "- `packages` used in **tree** column\n"
   ]
  },
  {
   "cell_type": "code",
   "execution_count": null,
   "id": "dd849cf8",
   "metadata": {},
   "outputs": [],
   "source": [
    "solver_reports_metadata_df.loc[0]['tree'][0]['packages']"
   ]
  },
  {
   "cell_type": "code",
   "execution_count": null,
   "id": "934a11ce",
   "metadata": {},
   "outputs": [],
   "source": [
    "solver_reports_metadata_df.loc[1]['tree'][0]['packages']"
   ]
  },
  {
   "cell_type": "code",
   "execution_count": null,
   "id": "26b1cdaf",
   "metadata": {},
   "outputs": [],
   "source": [
    "solver_reports_metadata_df.loc[2]['tree'][0]['packages']"
   ]
  },
  {
   "cell_type": "markdown",
   "id": "06edc91d",
   "metadata": {},
   "source": [
    "Point of interest is the discrepancy of aforementioned data and module names on pypi.org. For example:\n",
    "- https://pypi.org/project/scikit-learn/\n",
    "- https://pypi.org/project/ipython/ \n",
    "- https://pypi.org/project/python-dotenv/ "
   ]
  },
  {
   "cell_type": "markdown",
   "id": "977fe8d2",
   "metadata": {},
   "source": [
    "## Invectio output"
   ]
  },
  {
   "cell_type": "markdown",
   "id": "c668c97a",
   "metadata": {},
   "source": [
    "In order to link the solver output to invectio output let's analyze result of `invectio whatuses .` command on the following test python file"
   ]
  },
  {
   "cell_type": "code",
   "execution_count": null,
   "id": "1fcf6611",
   "metadata": {},
   "outputs": [],
   "source": [
    "from sklearn import linear_model as lm\n",
    "import IPython\n",
    "import dotenv\n",
    "import plone.app.upgrade\n",
    "\n",
    "plone_app_test = plone.app.upgrade.alias_module()\n",
    "config = dotenv.dotenv_value(\".env\")\n",
    "jobs = IPython.backgroundjobs.BackgroundJobManager()\n",
    "lm.LinearRegression"
   ]
  },
  {
   "cell_type": "markdown",
   "id": "881e5461",
   "metadata": {},
   "source": [
    "result:"
   ]
  },
  {
   "cell_type": "code",
   "execution_count": null,
   "id": "cc179ad8",
   "metadata": {},
   "outputs": [],
   "source": [
    "    \"tests/data/app_10_test.py\": {\n",
    "      \"IPython\": [\n",
    "        \"IPython.backgroundjobs.BackgroundJobManager\"\n",
    "      ],\n",
    "      \"dotenv\": [\n",
    "        \"dotenv.dotenv_value\"\n",
    "      ],\n",
    "      \"plone\": [\n",
    "        \"plone.app.upgrade.alias_module\"\n",
    "      ],\n",
    "      \"sklearn\": [\n",
    "        \"sklearn.linear_model.LinearRegression\"\n",
    "      ]\n",
    "    },"
   ]
  },
  {
   "cell_type": "markdown",
   "id": "f613b413",
   "metadata": {},
   "source": [
    "As we can see the name of modules will not match those from pypi: \n",
    "- ipython\n",
    "- python-dotenv\n",
    "- scikit-learn"
   ]
  },
  {
   "cell_type": "markdown",
   "id": "4a201d2f",
   "metadata": {},
   "source": [
    "## Possible link"
   ]
  },
  {
   "cell_type": "markdown",
   "id": "6005bd16",
   "metadata": {},
   "source": [
    "To take a look on how invectio and solver datasets can be connected let's start with"
   ]
  },
  {
   "cell_type": "code",
   "execution_count": null,
   "id": "26d61f88",
   "metadata": {},
   "outputs": [],
   "source": [
    "solver_reports_metadata_df.loc[0]['tree'][0]['importlib_metadata']['metadata']"
   ]
  },
  {
   "cell_type": "markdown",
   "id": "a1ac97aa",
   "metadata": {},
   "source": [
    "Here we have both URL to the package in `Download-URL` and name in `Name`"
   ]
  },
  {
   "cell_type": "code",
   "execution_count": null,
   "id": "e28d1e59",
   "metadata": {},
   "outputs": [],
   "source": [
    "solver_reports_metadata_df.loc[0]['tree'][0]['importlib_metadata']['metadata']['Name']"
   ]
  },
  {
   "cell_type": "markdown",
   "id": "aab7d27b",
   "metadata": {},
   "source": [
    "Further, we can use function  `get_source_repos()` from [app.py](https://github.com/thoth-station/solver-project-url-job/blob/master/app.py) from [solver-project-url-job repository](https://github.com/thoth-station/solver-project-url-job) to match the output from `invectio whatuses .` to package name in `solver_reports_metadata_df.loc[0]['tree'][0]['packages']`. \n",
    "And match it in turn to `solver_reports_metadata_df.loc[0]['tree'][0]['importlib_metadata']['metadata']['Name']`\n",
    "Refer below."
   ]
  },
  {
   "cell_type": "markdown",
   "id": "fb12ba42",
   "metadata": {},
   "source": [
    "    \"tests/data/app_10_test.py\": {\n",
    "      \"IPython\": [\n",
    "        \"IPython.backgroundjobs.BackgroundJobManager\"\n",
    "      ],\n",
    "      \"dotenv\": [\n",
    "        \"dotenv.dotenv_value\"\n",
    "      ],\n",
    "      \"plone\": [\n",
    "        \"plone.app.upgrade.alias_module\"\n",
    "      ],\n",
    "      \"sklearn\": [\n",
    "        \"sklearn.linear_model.LinearRegression\"\n",
    "      ]\n",
    "    },"
   ]
  },
  {
   "cell_type": "code",
   "execution_count": null,
   "id": "0cd11bf9",
   "metadata": {},
   "outputs": [],
   "source": [
    "solver_reports_metadata_df.loc[0]['tree'][0]['packages']"
   ]
  },
  {
   "cell_type": "code",
   "execution_count": null,
   "id": "930fa9a3",
   "metadata": {},
   "outputs": [],
   "source": [
    "solver_reports_metadata_df.loc[0]['tree'][0]['importlib_metadata']['metadata']['Name']"
   ]
  }
 ],
 "metadata": {
  "kernelspec": {
   "display_name": "Python 3 (ipykernel)",
   "language": "python",
   "name": "python3"
  },
  "language_info": {
   "codemirror_mode": {
    "name": "ipython",
    "version": 3
   },
   "file_extension": ".py",
   "mimetype": "text/x-python",
   "name": "python",
   "nbconvert_exporter": "python",
   "pygments_lexer": "ipython3",
   "version": "3.8.6"
  }
 },
 "nbformat": 4,
 "nbformat_minor": 5
}
