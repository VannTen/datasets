{
 "cells": [
  {
   "cell_type": "markdown",
   "id": "8ad9cb6a",
   "metadata": {},
   "source": [
    "# Analyze links of invectio and solver outputs"
   ]
  },
  {
   "cell_type": "markdown",
   "id": "7b5c0e4b",
   "metadata": {},
   "source": [
    "## Load modules"
   ]
  },
  {
   "cell_type": "code",
   "execution_count": 1,
   "id": "d224a86e",
   "metadata": {},
   "outputs": [],
   "source": [
    "from thoth.report_processing.components.solver import Solver\n",
    "import pandas as pd"
   ]
  },
  {
   "cell_type": "code",
   "execution_count": 2,
   "id": "bb5e62b4",
   "metadata": {},
   "outputs": [],
   "source": [
    "from pathlib import Path\n",
    "current_path = Path.cwd()"
   ]
  },
  {
   "cell_type": "markdown",
   "id": "a9aeb675",
   "metadata": {},
   "source": [
    "## Access data"
   ]
  },
  {
   "cell_type": "code",
   "execution_count": 4,
   "id": "33849a46",
   "metadata": {
    "collapsed": true
   },
   "outputs": [
    {
     "name": "stderr",
     "output_type": "stream",
     "text": [
      "INFO:thoth.report_processing.components.solver:Retrieving dataset at path... /root/thoth-solver-nonmatching-packages-data\n",
      "INFO:thoth.report_processing.components.solver:Considering... /root/thoth-solver-nonmatching-packages-data/solver-rhel-8-py38-210713042252-a6a5cffc83e20e68\n",
      "INFO:thoth.report_processing.components.solver:Considering... /root/thoth-solver-nonmatching-packages-data/solver-rhel-8-py38-210720145125-3d41d6cea9a4a58f\n",
      "INFO:thoth.report_processing.components.solver:Considering... /root/thoth-solver-nonmatching-packages-data/solver-rhel-8-py38-210620185738-2f6d41d12536569f\n",
      "INFO:thoth.report_processing.components.solver:Number of files retrieved is: 3\n"
     ]
    }
   ],
   "source": [
    "nonmatching_reports=Solver.aggregate_solver_results(repo_path=current_path.joinpath('thoth-solver-nonmatching-packages-data'), is_local=True)"
   ]
  },
  {
   "cell_type": "markdown",
   "id": "22356738",
   "metadata": {},
   "source": [
    "## Access all reports"
   ]
  },
  {
   "cell_type": "code",
   "execution_count": 5,
   "id": "32b4635b",
   "metadata": {},
   "outputs": [
    {
     "data": {
      "text/html": [
       "<div>\n",
       "<style scoped>\n",
       "    .dataframe tbody tr th:only-of-type {\n",
       "        vertical-align: middle;\n",
       "    }\n",
       "\n",
       "    .dataframe tbody tr th {\n",
       "        vertical-align: top;\n",
       "    }\n",
       "\n",
       "    .dataframe thead th {\n",
       "        text-align: right;\n",
       "    }\n",
       "</style>\n",
       "<table border=\"1\" class=\"dataframe\">\n",
       "  <thead>\n",
       "    <tr style=\"text-align: right;\">\n",
       "      <th></th>\n",
       "      <th>document_id</th>\n",
       "      <th>datetime</th>\n",
       "      <th>requirements</th>\n",
       "      <th>solver</th>\n",
       "      <th>os_name</th>\n",
       "      <th>os_version</th>\n",
       "      <th>python_interpreter</th>\n",
       "      <th>analyzer_version</th>\n",
       "    </tr>\n",
       "  </thead>\n",
       "  <tbody>\n",
       "    <tr>\n",
       "      <th>0</th>\n",
       "      <td>solver-rhel-8-py38-210713042252-a6a5cffc83e20e68</td>\n",
       "      <td>2021-07-13T06:10:26.313602</td>\n",
       "      <td>scikit-learn===0.24.2</td>\n",
       "      <td>red hat enterprise linux-83-py38</td>\n",
       "      <td>red hat enterprise linux</td>\n",
       "      <td>83</td>\n",
       "      <td>3.8</td>\n",
       "      <td>1.10.1</td>\n",
       "    </tr>\n",
       "    <tr>\n",
       "      <th>1</th>\n",
       "      <td>solver-rhel-8-py38-210720145125-3d41d6cea9a4a58f</td>\n",
       "      <td>2021-07-20T15:42:18.379547</td>\n",
       "      <td>ipython===7.25.0</td>\n",
       "      <td>red hat enterprise linux-83-py38</td>\n",
       "      <td>red hat enterprise linux</td>\n",
       "      <td>83</td>\n",
       "      <td>3.8</td>\n",
       "      <td>1.10.1</td>\n",
       "    </tr>\n",
       "    <tr>\n",
       "      <th>2</th>\n",
       "      <td>solver-rhel-8-py38-210620185738-2f6d41d12536569f</td>\n",
       "      <td>2021-06-20T22:19:44.133615</td>\n",
       "      <td>python-dotenv===0.18.0</td>\n",
       "      <td>red hat enterprise linux-83-py38</td>\n",
       "      <td>red hat enterprise linux</td>\n",
       "      <td>83</td>\n",
       "      <td>3.8</td>\n",
       "      <td>1.10.1</td>\n",
       "    </tr>\n",
       "  </tbody>\n",
       "</table>\n",
       "</div>"
      ],
      "text/plain": [
       "                                        document_id  \\\n",
       "0  solver-rhel-8-py38-210713042252-a6a5cffc83e20e68   \n",
       "1  solver-rhel-8-py38-210720145125-3d41d6cea9a4a58f   \n",
       "2  solver-rhel-8-py38-210620185738-2f6d41d12536569f   \n",
       "\n",
       "                     datetime            requirements  \\\n",
       "0  2021-07-13T06:10:26.313602   scikit-learn===0.24.2   \n",
       "1  2021-07-20T15:42:18.379547        ipython===7.25.0   \n",
       "2  2021-06-20T22:19:44.133615  python-dotenv===0.18.0   \n",
       "\n",
       "                             solver                   os_name os_version  \\\n",
       "0  red hat enterprise linux-83-py38  red hat enterprise linux         83   \n",
       "1  red hat enterprise linux-83-py38  red hat enterprise linux         83   \n",
       "2  red hat enterprise linux-83-py38  red hat enterprise linux         83   \n",
       "\n",
       "  python_interpreter analyzer_version  \n",
       "0                3.8           1.10.1  \n",
       "1                3.8           1.10.1  \n",
       "2                3.8           1.10.1  "
      ]
     },
     "execution_count": 5,
     "metadata": {},
     "output_type": "execute_result"
    }
   ],
   "source": [
    "solver_reports_metadata = []\n",
    "for solver_document in nonmatching_reports:\n",
    "    solver_reports_metadata.append(\n",
    "        Solver.extract_data_from_solver_metadata(nonmatching_reports[solver_document][\"metadata\"])\n",
    "    )\n",
    "\n",
    "solver_reports_metadata_df = pd.DataFrame(solver_reports_metadata)\n",
    "\n",
    "solver_reports_metadata_df.head()"
   ]
  },
  {
   "cell_type": "code",
   "execution_count": 6,
   "id": "fd2ed325",
   "metadata": {},
   "outputs": [],
   "source": [
    "solver_reports_extracted_data = []\n",
    "solver_errors = []\n",
    "for solver_document in nonmatching_reports:\n",
    "    solver_report_extracted_data = Solver.extract_data_from_solver_metadata(\n",
    "        nonmatching_reports[solver_document][\"metadata\"]\n",
    "    )\n",
    "    for k, v in nonmatching_reports[solver_document][\"result\"].items():\n",
    "        solver_report_extracted_data[k] = v\n",
    "        if k == \"errors\" and v:\n",
    "            errors = Solver.extract_errors_from_solver_result(v)\n",
    "            for error in errors:\n",
    "                solver_errors.append(error)\n",
    "    \n",
    "    packages = Solver.extract_tree_from_solver_result(nonmatching_reports[solver_document][\"result\"])\n",
    "    solver_report_extracted_data[\"packages\"] = packages\n",
    "    solver_reports_extracted_data.append(solver_report_extracted_data)"
   ]
  },
  {
   "cell_type": "code",
   "execution_count": 7,
   "id": "6b34ccba",
   "metadata": {},
   "outputs": [
    {
     "data": {
      "text/html": [
       "<div>\n",
       "<style scoped>\n",
       "    .dataframe tbody tr th:only-of-type {\n",
       "        vertical-align: middle;\n",
       "    }\n",
       "\n",
       "    .dataframe tbody tr th {\n",
       "        vertical-align: top;\n",
       "    }\n",
       "\n",
       "    .dataframe thead th {\n",
       "        text-align: right;\n",
       "    }\n",
       "</style>\n",
       "<table border=\"1\" class=\"dataframe\">\n",
       "  <thead>\n",
       "    <tr style=\"text-align: right;\">\n",
       "      <th></th>\n",
       "      <th>document_id</th>\n",
       "      <th>datetime</th>\n",
       "      <th>requirements</th>\n",
       "      <th>solver</th>\n",
       "      <th>os_name</th>\n",
       "      <th>os_version</th>\n",
       "      <th>python_interpreter</th>\n",
       "      <th>analyzer_version</th>\n",
       "      <th>environment</th>\n",
       "      <th>environment_packages</th>\n",
       "      <th>errors</th>\n",
       "      <th>platform</th>\n",
       "      <th>tree</th>\n",
       "      <th>unparsed</th>\n",
       "      <th>unresolved</th>\n",
       "      <th>packages</th>\n",
       "    </tr>\n",
       "  </thead>\n",
       "  <tbody>\n",
       "    <tr>\n",
       "      <th>0</th>\n",
       "      <td>solver-rhel-8-py38-210713042252-a6a5cffc83e20e68</td>\n",
       "      <td>2021-07-13T06:10:26.313602</td>\n",
       "      <td>scikit-learn===0.24.2</td>\n",
       "      <td>red hat enterprise linux-83-py38</td>\n",
       "      <td>red hat enterprise linux</td>\n",
       "      <td>83</td>\n",
       "      <td>3.8</td>\n",
       "      <td>1.10.1</td>\n",
       "      <td>{'implementation_name': 'cpython', 'implementa...</td>\n",
       "      <td>[{'package_name': 'pipdeptree', 'package_versi...</td>\n",
       "      <td>[]</td>\n",
       "      <td>linux-x86_64</td>\n",
       "      <td>[{'dependencies': [{'extra': [], 'extras': [],...</td>\n",
       "      <td>[]</td>\n",
       "      <td>[]</td>\n",
       "      <td>[{'package_name': 'scikit-learn', 'package_ver...</td>\n",
       "    </tr>\n",
       "    <tr>\n",
       "      <th>1</th>\n",
       "      <td>solver-rhel-8-py38-210720145125-3d41d6cea9a4a58f</td>\n",
       "      <td>2021-07-20T15:42:18.379547</td>\n",
       "      <td>ipython===7.25.0</td>\n",
       "      <td>red hat enterprise linux-83-py38</td>\n",
       "      <td>red hat enterprise linux</td>\n",
       "      <td>83</td>\n",
       "      <td>3.8</td>\n",
       "      <td>1.10.1</td>\n",
       "      <td>{'implementation_name': 'cpython', 'implementa...</td>\n",
       "      <td>[{'package_name': 'pipdeptree', 'package_versi...</td>\n",
       "      <td>[]</td>\n",
       "      <td>linux-x86_64</td>\n",
       "      <td>[{'dependencies': [{'extra': [], 'extras': [],...</td>\n",
       "      <td>[]</td>\n",
       "      <td>[]</td>\n",
       "      <td>[{'package_name': 'ipython', 'package_version'...</td>\n",
       "    </tr>\n",
       "    <tr>\n",
       "      <th>2</th>\n",
       "      <td>solver-rhel-8-py38-210620185738-2f6d41d12536569f</td>\n",
       "      <td>2021-06-20T22:19:44.133615</td>\n",
       "      <td>python-dotenv===0.18.0</td>\n",
       "      <td>red hat enterprise linux-83-py38</td>\n",
       "      <td>red hat enterprise linux</td>\n",
       "      <td>83</td>\n",
       "      <td>3.8</td>\n",
       "      <td>1.10.1</td>\n",
       "      <td>{'implementation_name': 'cpython', 'implementa...</td>\n",
       "      <td>[{'package_name': 'pipdeptree', 'package_versi...</td>\n",
       "      <td>[]</td>\n",
       "      <td>linux-x86_64</td>\n",
       "      <td>[{'dependencies': [{'extra': [], 'extras': [],...</td>\n",
       "      <td>[]</td>\n",
       "      <td>[]</td>\n",
       "      <td>[{'package_name': 'python-dotenv', 'package_ve...</td>\n",
       "    </tr>\n",
       "  </tbody>\n",
       "</table>\n",
       "</div>"
      ],
      "text/plain": [
       "                                        document_id  \\\n",
       "0  solver-rhel-8-py38-210713042252-a6a5cffc83e20e68   \n",
       "1  solver-rhel-8-py38-210720145125-3d41d6cea9a4a58f   \n",
       "2  solver-rhel-8-py38-210620185738-2f6d41d12536569f   \n",
       "\n",
       "                     datetime            requirements  \\\n",
       "0  2021-07-13T06:10:26.313602   scikit-learn===0.24.2   \n",
       "1  2021-07-20T15:42:18.379547        ipython===7.25.0   \n",
       "2  2021-06-20T22:19:44.133615  python-dotenv===0.18.0   \n",
       "\n",
       "                             solver                   os_name os_version  \\\n",
       "0  red hat enterprise linux-83-py38  red hat enterprise linux         83   \n",
       "1  red hat enterprise linux-83-py38  red hat enterprise linux         83   \n",
       "2  red hat enterprise linux-83-py38  red hat enterprise linux         83   \n",
       "\n",
       "  python_interpreter analyzer_version  \\\n",
       "0                3.8           1.10.1   \n",
       "1                3.8           1.10.1   \n",
       "2                3.8           1.10.1   \n",
       "\n",
       "                                         environment  \\\n",
       "0  {'implementation_name': 'cpython', 'implementa...   \n",
       "1  {'implementation_name': 'cpython', 'implementa...   \n",
       "2  {'implementation_name': 'cpython', 'implementa...   \n",
       "\n",
       "                                environment_packages errors      platform  \\\n",
       "0  [{'package_name': 'pipdeptree', 'package_versi...     []  linux-x86_64   \n",
       "1  [{'package_name': 'pipdeptree', 'package_versi...     []  linux-x86_64   \n",
       "2  [{'package_name': 'pipdeptree', 'package_versi...     []  linux-x86_64   \n",
       "\n",
       "                                                tree unparsed unresolved  \\\n",
       "0  [{'dependencies': [{'extra': [], 'extras': [],...       []         []   \n",
       "1  [{'dependencies': [{'extra': [], 'extras': [],...       []         []   \n",
       "2  [{'dependencies': [{'extra': [], 'extras': [],...       []         []   \n",
       "\n",
       "                                            packages  \n",
       "0  [{'package_name': 'scikit-learn', 'package_ver...  \n",
       "1  [{'package_name': 'ipython', 'package_version'...  \n",
       "2  [{'package_name': 'python-dotenv', 'package_ve...  "
      ]
     },
     "execution_count": 7,
     "metadata": {},
     "output_type": "execute_result"
    }
   ],
   "source": [
    "solver_reports_metadata_df = pd.DataFrame(solver_reports_extracted_data)\n",
    "solver_reports_metadata_df.head(10)"
   ]
  },
  {
   "cell_type": "markdown",
   "id": "2831dabf",
   "metadata": {},
   "source": [
    "Compared to the previous the solver-dataset v1.0 in this we have extra output of:\n",
    "- `platform` field \n",
    "- `packages` used in **tree** column\n"
   ]
  },
  {
   "cell_type": "code",
   "execution_count": 18,
   "id": "dd849cf8",
   "metadata": {},
   "outputs": [
    {
     "data": {
      "text/plain": [
       "['sklearn',\n",
       " 'sklearn.__check_build',\n",
       " 'sklearn._build_utils',\n",
       " 'sklearn._loss',\n",
       " 'sklearn.cluster',\n",
       " 'sklearn.compose',\n",
       " 'sklearn.covariance',\n",
       " 'sklearn.cross_decomposition',\n",
       " 'sklearn.datasets',\n",
       " 'sklearn.decomposition',\n",
       " 'sklearn.ensemble',\n",
       " 'sklearn.experimental',\n",
       " 'sklearn.externals',\n",
       " 'sklearn.feature_extraction',\n",
       " 'sklearn.feature_selection',\n",
       " 'sklearn.gaussian_process',\n",
       " 'sklearn.impute',\n",
       " 'sklearn.inspection',\n",
       " 'sklearn.linear_model',\n",
       " 'sklearn.manifold',\n",
       " 'sklearn.metrics',\n",
       " 'sklearn.mixture',\n",
       " 'sklearn.model_selection',\n",
       " 'sklearn.neighbors',\n",
       " 'sklearn.neural_network',\n",
       " 'sklearn.preprocessing',\n",
       " 'sklearn.semi_supervised',\n",
       " 'sklearn.svm',\n",
       " 'sklearn.tests',\n",
       " 'sklearn.tree',\n",
       " 'sklearn.utils',\n",
       " 'sklearn._loss.tests',\n",
       " 'sklearn.cluster.tests',\n",
       " 'sklearn.compose.tests',\n",
       " 'sklearn.covariance.tests',\n",
       " 'sklearn.cross_decomposition.tests',\n",
       " 'sklearn.datasets.tests',\n",
       " 'sklearn.decomposition.tests',\n",
       " 'sklearn.ensemble._hist_gradient_boosting',\n",
       " 'sklearn.ensemble.tests',\n",
       " 'sklearn.experimental.tests',\n",
       " 'sklearn.feature_extraction.tests',\n",
       " 'sklearn.feature_selection.tests',\n",
       " 'sklearn.gaussian_process.tests',\n",
       " 'sklearn.impute.tests',\n",
       " 'sklearn.inspection._plot',\n",
       " 'sklearn.inspection.tests',\n",
       " 'sklearn.linear_model._glm',\n",
       " 'sklearn.linear_model.tests',\n",
       " 'sklearn.manifold.tests',\n",
       " 'sklearn.metrics._plot',\n",
       " 'sklearn.metrics.cluster',\n",
       " 'sklearn.metrics.tests',\n",
       " 'sklearn.mixture.tests',\n",
       " 'sklearn.model_selection.tests',\n",
       " 'sklearn.neighbors.tests',\n",
       " 'sklearn.neural_network.tests',\n",
       " 'sklearn.preprocessing.tests',\n",
       " 'sklearn.semi_supervised.tests',\n",
       " 'sklearn.svm.tests',\n",
       " 'sklearn.tree.tests',\n",
       " 'sklearn.utils.tests',\n",
       " 'sklearn.ensemble._hist_gradient_boosting.tests',\n",
       " 'sklearn.inspection._plot.tests',\n",
       " 'sklearn.linear_model._glm.tests',\n",
       " 'sklearn.metrics._plot.tests',\n",
       " 'sklearn.metrics.cluster.tests']"
      ]
     },
     "execution_count": 18,
     "metadata": {},
     "output_type": "execute_result"
    }
   ],
   "source": [
    "solver_reports_metadata_df.loc[0]['tree'][0]['packages']"
   ]
  },
  {
   "cell_type": "code",
   "execution_count": 19,
   "id": "934a11ce",
   "metadata": {},
   "outputs": [
    {
     "data": {
      "text/plain": [
       "['IPython',\n",
       " 'IPython.core',\n",
       " 'IPython.extensions',\n",
       " 'IPython.external',\n",
       " 'IPython.kernel',\n",
       " 'IPython.lib',\n",
       " 'IPython.sphinxext',\n",
       " 'IPython.terminal',\n",
       " 'IPython.testing',\n",
       " 'IPython.utils',\n",
       " 'IPython.core.magics',\n",
       " 'IPython.core.tests',\n",
       " 'IPython.extensions.tests',\n",
       " 'IPython.external.decorators',\n",
       " 'IPython.lib.tests',\n",
       " 'IPython.terminal.pt_inputhooks',\n",
       " 'IPython.terminal.tests',\n",
       " 'IPython.testing.plugin',\n",
       " 'IPython.testing.tests',\n",
       " 'IPython.utils.tests']"
      ]
     },
     "execution_count": 19,
     "metadata": {},
     "output_type": "execute_result"
    }
   ],
   "source": [
    "solver_reports_metadata_df.loc[1]['tree'][0]['packages']"
   ]
  },
  {
   "cell_type": "code",
   "execution_count": 20,
   "id": "26b1cdaf",
   "metadata": {},
   "outputs": [
    {
     "data": {
      "text/plain": [
       "['dotenv']"
      ]
     },
     "execution_count": 20,
     "metadata": {},
     "output_type": "execute_result"
    }
   ],
   "source": [
    "solver_reports_metadata_df.loc[2]['tree'][0]['packages']"
   ]
  },
  {
   "cell_type": "markdown",
   "id": "06edc91d",
   "metadata": {},
   "source": [
    "Point of interest is the discrepancy of aforementioned data and module names on pypi.org. For example:\n",
    "- https://pypi.org/project/scikit-learn/\n",
    "- https://pypi.org/project/ipython/ \n",
    "- https://pypi.org/project/python-dotenv/ "
   ]
  },
  {
   "cell_type": "markdown",
   "id": "977fe8d2",
   "metadata": {},
   "source": [
    "## Invectio output"
   ]
  },
  {
   "cell_type": "markdown",
   "id": "c668c97a",
   "metadata": {},
   "source": [
    "In order to link the solver output to invectio output let's analyze result of `invectio whatuses .` command on the following test python file"
   ]
  },
  {
   "cell_type": "code",
   "execution_count": null,
   "id": "1fcf6611",
   "metadata": {},
   "outputs": [],
   "source": [
    "from sklearn import linear_model as lm\n",
    "import IPython\n",
    "import dotenv\n",
    "import plone.app.upgrade\n",
    "\n",
    "plone_app_test = plone.app.upgrade.alias_module()\n",
    "config = dotenv.dotenv_value(\".env\")\n",
    "jobs = IPython.backgroundjobs.BackgroundJobManager()\n",
    "lm.LinearRegression"
   ]
  },
  {
   "cell_type": "markdown",
   "id": "881e5461",
   "metadata": {},
   "source": [
    "result:"
   ]
  },
  {
   "cell_type": "code",
   "execution_count": null,
   "id": "cc179ad8",
   "metadata": {},
   "outputs": [],
   "source": [
    "    \"tests/data/app_10_test.py\": {\n",
    "      \"IPython\": [\n",
    "        \"IPython.backgroundjobs.BackgroundJobManager\"\n",
    "      ],\n",
    "      \"dotenv\": [\n",
    "        \"dotenv.dotenv_value\"\n",
    "      ],\n",
    "      \"plone\": [\n",
    "        \"plone.app.upgrade.alias_module\"\n",
    "      ],\n",
    "      \"sklearn\": [\n",
    "        \"sklearn.linear_model.LinearRegression\"\n",
    "      ]\n",
    "    },"
   ]
  },
  {
   "cell_type": "markdown",
   "id": "f613b413",
   "metadata": {},
   "source": [
    "As we can see the name of modules will not match those from pypi: \n",
    "- ipython\n",
    "- python-dotenv\n",
    "- scikit-learn"
   ]
  },
  {
   "cell_type": "markdown",
   "id": "4a201d2f",
   "metadata": {},
   "source": [
    "## Possible link"
   ]
  },
  {
   "cell_type": "markdown",
   "id": "6005bd16",
   "metadata": {},
   "source": [
    "To take a look on how invectio and solver datasets can be connected let's start with"
   ]
  },
  {
   "cell_type": "code",
   "execution_count": 22,
   "id": "26d61f88",
   "metadata": {},
   "outputs": [
    {
     "data": {
      "text/plain": [
       "{'Classifier': ['Intended Audience :: Science/Research',\n",
       "  'Intended Audience :: Developers',\n",
       "  'License :: OSI Approved',\n",
       "  'Programming Language :: C',\n",
       "  'Programming Language :: Python',\n",
       "  'Topic :: Software Development',\n",
       "  'Topic :: Scientific/Engineering',\n",
       "  'Development Status :: 5 - Production/Stable',\n",
       "  'Operating System :: Microsoft :: Windows',\n",
       "  'Operating System :: POSIX',\n",
       "  'Operating System :: Unix',\n",
       "  'Operating System :: MacOS',\n",
       "  'Programming Language :: Python :: 3',\n",
       "  'Programming Language :: Python :: 3.6',\n",
       "  'Programming Language :: Python :: 3.7',\n",
       "  'Programming Language :: Python :: 3.8',\n",
       "  'Programming Language :: Python :: 3.9',\n",
       "  'Programming Language :: Python :: Implementation :: CPython',\n",
       "  'Programming Language :: Python :: Implementation :: PyPy'],\n",
       " 'Download-URL': 'https://pypi.org/project/scikit-learn/#files',\n",
       " 'Home-page': 'http://scikit-learn.org',\n",
       " 'License': 'new BSD',\n",
       " 'Maintainer': 'Andreas Mueller',\n",
       " 'Maintainer-email': 'amueller@ais.uni-bonn.de',\n",
       " 'Metadata-Version': '2.1',\n",
       " 'Name': 'scikit-learn',\n",
       " 'Platform': ['UNKNOWN'],\n",
       " 'Project-URL': ['Bug Tracker, https://github.com/scikit-learn/scikit-learn/issues',\n",
       "  'Documentation, https://scikit-learn.org/stable/documentation.html',\n",
       "  'Source Code, https://github.com/scikit-learn/scikit-learn'],\n",
       " 'Provides-Extra': ['benchmark', 'docs', 'examples', 'tests'],\n",
       " 'Requires-Dist': ['numpy (>=1.13.3)',\n",
       "  'scipy (>=0.19.1)',\n",
       "  'joblib (>=0.11)',\n",
       "  'threadpoolctl (>=2.0.0)',\n",
       "  \"matplotlib (>=2.1.1) ; extra == 'benchmark'\",\n",
       "  \"pandas (>=0.25.0) ; extra == 'benchmark'\",\n",
       "  \"memory-profiler (>=0.57.0) ; extra == 'benchmark'\",\n",
       "  \"matplotlib (>=2.1.1) ; extra == 'docs'\",\n",
       "  \"scikit-image (>=0.13) ; extra == 'docs'\",\n",
       "  \"pandas (>=0.25.0) ; extra == 'docs'\",\n",
       "  \"seaborn (>=0.9.0) ; extra == 'docs'\",\n",
       "  \"memory-profiler (>=0.57.0) ; extra == 'docs'\",\n",
       "  \"sphinx (>=3.2.0) ; extra == 'docs'\",\n",
       "  \"sphinx-gallery (>=0.7.0) ; extra == 'docs'\",\n",
       "  \"numpydoc (>=1.0.0) ; extra == 'docs'\",\n",
       "  \"Pillow (>=7.1.2) ; extra == 'docs'\",\n",
       "  \"sphinx-prompt (>=1.3.0) ; extra == 'docs'\",\n",
       "  \"matplotlib (>=2.1.1) ; extra == 'examples'\",\n",
       "  \"scikit-image (>=0.13) ; extra == 'examples'\",\n",
       "  \"pandas (>=0.25.0) ; extra == 'examples'\",\n",
       "  \"seaborn (>=0.9.0) ; extra == 'examples'\",\n",
       "  \"matplotlib (>=2.1.1) ; extra == 'tests'\",\n",
       "  \"scikit-image (>=0.13) ; extra == 'tests'\",\n",
       "  \"pandas (>=0.25.0) ; extra == 'tests'\",\n",
       "  \"pytest (>=5.0.1) ; extra == 'tests'\",\n",
       "  \"pytest-cov (>=2.9.0) ; extra == 'tests'\",\n",
       "  \"flake8 (>=3.8.2) ; extra == 'tests'\",\n",
       "  \"mypy (>=0.770) ; extra == 'tests'\",\n",
       "  \"pyamg (>=4.0.0) ; extra == 'tests'\"],\n",
       " 'Requires-Python': '>=3.6',\n",
       " 'Summary': 'A set of python modules for machine learning and data mining',\n",
       " 'Version': '0.24.2'}"
      ]
     },
     "execution_count": 22,
     "metadata": {},
     "output_type": "execute_result"
    }
   ],
   "source": [
    "solver_reports_metadata_df.loc[0]['tree'][0]['importlib_metadata']['metadata']"
   ]
  },
  {
   "cell_type": "markdown",
   "id": "a1ac97aa",
   "metadata": {},
   "source": [
    "Here we have both URL to the package in `Download-URL` and name in `Name`"
   ]
  },
  {
   "cell_type": "code",
   "execution_count": 23,
   "id": "e28d1e59",
   "metadata": {},
   "outputs": [
    {
     "data": {
      "text/plain": [
       "'scikit-learn'"
      ]
     },
     "execution_count": 23,
     "metadata": {},
     "output_type": "execute_result"
    }
   ],
   "source": [
    "solver_reports_metadata_df.loc[0]['tree'][0]['importlib_metadata']['metadata']['Name']"
   ]
  },
  {
   "cell_type": "markdown",
   "id": "aab7d27b",
   "metadata": {},
   "source": [
    "Further, we can use function  `get_source_repos()` from [app.py](https://github.com/thoth-station/solver-project-url-job/blob/master/app.py) from [solver-project-url-job repository](https://github.com/thoth-station/solver-project-url-job) to match the output from `invectio whatuses .` to package name in `solver_reports_metadata_df.loc[0]['tree'][0]['packages']`. \n",
    "And match it in turn to `solver_reports_metadata_df.loc[0]['tree'][0]['importlib_metadata']['metadata']['Name']`\n",
    "Refer below."
   ]
  },
  {
   "cell_type": "markdown",
   "id": "fb12ba42",
   "metadata": {},
   "source": [
    "    \"tests/data/app_10_test.py\": {\n",
    "      \"IPython\": [\n",
    "        \"IPython.backgroundjobs.BackgroundJobManager\"\n",
    "      ],\n",
    "      \"dotenv\": [\n",
    "        \"dotenv.dotenv_value\"\n",
    "      ],\n",
    "      \"plone\": [\n",
    "        \"plone.app.upgrade.alias_module\"\n",
    "      ],\n",
    "      \"sklearn\": [\n",
    "        \"sklearn.linear_model.LinearRegression\"\n",
    "      ]\n",
    "    },"
   ]
  },
  {
   "cell_type": "code",
   "execution_count": 25,
   "id": "0cd11bf9",
   "metadata": {},
   "outputs": [
    {
     "data": {
      "text/plain": [
       "['sklearn',\n",
       " 'sklearn.__check_build',\n",
       " 'sklearn._build_utils',\n",
       " 'sklearn._loss',\n",
       " 'sklearn.cluster',\n",
       " 'sklearn.compose',\n",
       " 'sklearn.covariance',\n",
       " 'sklearn.cross_decomposition',\n",
       " 'sklearn.datasets',\n",
       " 'sklearn.decomposition',\n",
       " 'sklearn.ensemble',\n",
       " 'sklearn.experimental',\n",
       " 'sklearn.externals',\n",
       " 'sklearn.feature_extraction',\n",
       " 'sklearn.feature_selection',\n",
       " 'sklearn.gaussian_process',\n",
       " 'sklearn.impute',\n",
       " 'sklearn.inspection',\n",
       " 'sklearn.linear_model',\n",
       " 'sklearn.manifold',\n",
       " 'sklearn.metrics',\n",
       " 'sklearn.mixture',\n",
       " 'sklearn.model_selection',\n",
       " 'sklearn.neighbors',\n",
       " 'sklearn.neural_network',\n",
       " 'sklearn.preprocessing',\n",
       " 'sklearn.semi_supervised',\n",
       " 'sklearn.svm',\n",
       " 'sklearn.tests',\n",
       " 'sklearn.tree',\n",
       " 'sklearn.utils',\n",
       " 'sklearn._loss.tests',\n",
       " 'sklearn.cluster.tests',\n",
       " 'sklearn.compose.tests',\n",
       " 'sklearn.covariance.tests',\n",
       " 'sklearn.cross_decomposition.tests',\n",
       " 'sklearn.datasets.tests',\n",
       " 'sklearn.decomposition.tests',\n",
       " 'sklearn.ensemble._hist_gradient_boosting',\n",
       " 'sklearn.ensemble.tests',\n",
       " 'sklearn.experimental.tests',\n",
       " 'sklearn.feature_extraction.tests',\n",
       " 'sklearn.feature_selection.tests',\n",
       " 'sklearn.gaussian_process.tests',\n",
       " 'sklearn.impute.tests',\n",
       " 'sklearn.inspection._plot',\n",
       " 'sklearn.inspection.tests',\n",
       " 'sklearn.linear_model._glm',\n",
       " 'sklearn.linear_model.tests',\n",
       " 'sklearn.manifold.tests',\n",
       " 'sklearn.metrics._plot',\n",
       " 'sklearn.metrics.cluster',\n",
       " 'sklearn.metrics.tests',\n",
       " 'sklearn.mixture.tests',\n",
       " 'sklearn.model_selection.tests',\n",
       " 'sklearn.neighbors.tests',\n",
       " 'sklearn.neural_network.tests',\n",
       " 'sklearn.preprocessing.tests',\n",
       " 'sklearn.semi_supervised.tests',\n",
       " 'sklearn.svm.tests',\n",
       " 'sklearn.tree.tests',\n",
       " 'sklearn.utils.tests',\n",
       " 'sklearn.ensemble._hist_gradient_boosting.tests',\n",
       " 'sklearn.inspection._plot.tests',\n",
       " 'sklearn.linear_model._glm.tests',\n",
       " 'sklearn.metrics._plot.tests',\n",
       " 'sklearn.metrics.cluster.tests']"
      ]
     },
     "execution_count": 25,
     "metadata": {},
     "output_type": "execute_result"
    }
   ],
   "source": [
    "solver_reports_metadata_df.loc[0]['tree'][0]['packages']"
   ]
  },
  {
   "cell_type": "code",
   "execution_count": 26,
   "id": "930fa9a3",
   "metadata": {},
   "outputs": [
    {
     "data": {
      "text/plain": [
       "'scikit-learn'"
      ]
     },
     "execution_count": 26,
     "metadata": {},
     "output_type": "execute_result"
    }
   ],
   "source": [
    "solver_reports_metadata_df.loc[0]['tree'][0]['importlib_metadata']['metadata']['Name']"
   ]
  }
 ],
 "metadata": {
  "kernelspec": {
   "display_name": "Python 3",
   "language": "python",
   "name": "python3"
  },
  "language_info": {
   "codemirror_mode": {
    "name": "ipython",
    "version": 3
   },
   "file_extension": ".py",
   "mimetype": "text/x-python",
   "name": "python",
   "nbconvert_exporter": "python",
   "pygments_lexer": "ipython3",
   "version": "3.9.5"
  }
 },
 "nbformat": 4,
 "nbformat_minor": 5
}
