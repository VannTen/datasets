{
 "cells": [
  {
   "cell_type": "markdown",
   "metadata": {
    "toc": true
   },
   "source": [
    "<h1>Table of Contents<span class=\"tocSkip\"></span></h1>\n",
    "<div class=\"toc\"><ul class=\"toc-item\"><li><span><a href=\"#Context\" data-toc-modified-id=\"Context-1\"><span class=\"toc-item-num\">1&nbsp;&nbsp;</span>Context</a></span></li><li><span><a href=\"#Goal\" data-toc-modified-id=\"Goal-2\"><span class=\"toc-item-num\">2&nbsp;&nbsp;</span>Goal</a></span></li><li><span><a href=\"#Content\" data-toc-modified-id=\"Content-3\"><span class=\"toc-item-num\">3&nbsp;&nbsp;</span>Content</a></span></li><li><span><a href=\"#How-you-can-use-the-Data\" data-toc-modified-id=\"How-you-can-use-the-Data-4\"><span class=\"toc-item-num\">4&nbsp;&nbsp;</span>How you can use the Data</a></span></li><li><span><a href=\"#Import-packages\" data-toc-modified-id=\"Import-packages-5\"><span class=\"toc-item-num\">5&nbsp;&nbsp;</span>Import packages</a></span></li><li><span><a href=\"#Retrieve-the-data\" data-toc-modified-id=\"Retrieve-the-data-6\"><span class=\"toc-item-num\">6&nbsp;&nbsp;</span>Retrieve the data</a></span></li><li><span><a href=\"#Explore-one-report\" data-toc-modified-id=\"Explore-one-report-7\"><span class=\"toc-item-num\">7&nbsp;&nbsp;</span>Explore one report</a></span><ul class=\"toc-item\"><li><span><a href=\"#security-indicator-bandit-report\" data-toc-modified-id=\"security-indicator-bandit-report-7.1\"><span class=\"toc-item-num\">7.1&nbsp;&nbsp;</span>security indicator bandit report</a></span><ul class=\"toc-item\"><li><span><a href=\"#Security-Indicator-bandit-report-metadata\" data-toc-modified-id=\"Security-Indicator-bandit-report-metadata-7.1.1\"><span class=\"toc-item-num\">7.1.1&nbsp;&nbsp;</span>Security Indicator bandit report metadata</a></span></li><li><span><a href=\"#Security-Indicator-bandit-report-result\" data-toc-modified-id=\"Security-Indicator-bandit-report-result-7.1.2\"><span class=\"toc-item-num\">7.1.2&nbsp;&nbsp;</span>Security Indicator bandit report result</a></span></li></ul></li><li><span><a href=\"#security-indicator-cloc-report\" data-toc-modified-id=\"security-indicator-cloc-report-7.2\"><span class=\"toc-item-num\">7.2&nbsp;&nbsp;</span>security indicator cloc report</a></span><ul class=\"toc-item\"><li><span><a href=\"#Security-Indicator-cloc-report-metadata\" data-toc-modified-id=\"Security-Indicator-cloc-report-metadata-7.2.1\"><span class=\"toc-item-num\">7.2.1&nbsp;&nbsp;</span>Security Indicator cloc report metadata</a></span></li><li><span><a href=\"#Security-Indicator-cloc-report-result\" data-toc-modified-id=\"Security-Indicator-cloc-report-result-7.2.2\"><span class=\"toc-item-num\">7.2.2&nbsp;&nbsp;</span>Security Indicator cloc report result</a></span></li></ul></li></ul></li><li><span><a href=\"#Consider-all-bandit-security-reports\" data-toc-modified-id=\"Consider-all-bandit-security-reports-8\"><span class=\"toc-item-num\">8&nbsp;&nbsp;</span>Consider all bandit security reports</a></span><ul class=\"toc-item\"><li><span><a href=\"#Define-final-score-and-plot-results\" data-toc-modified-id=\"Define-final-score-and-plot-results-8.1\"><span class=\"toc-item-num\">8.1&nbsp;&nbsp;</span>Define final score and plot results</a></span></li></ul></li><li><span><a href=\"#Consider-all-cloc-security-reports\" data-toc-modified-id=\"Consider-all-cloc-security-reports-9\"><span class=\"toc-item-num\">9&nbsp;&nbsp;</span>Consider all cloc security reports</a></span></li></ul></div>"
   ]
  },
  {
   "cell_type": "markdown",
   "metadata": {
    "ExecuteTime": {
     "end_time": "2020-06-09T16:35:55.284975Z",
     "start_time": "2020-06-09T16:35:54.510375Z"
    }
   },
   "source": [
    "# Context\n",
    "\n",
    "Thoth Security Dataset is part of a series of datasets related to observations regarding software stacks (e.g. dependency tree, installability, performance, security, health) as part of Project Thoth. All these datasets can be found also here where they are described and explored to facilitate their use. All these observations are created with different components which are part of Project Thoth and stored in Thoth Knowledge Graph which is used by Thoth Adviser to provide advises on software stacks depending on User requirements."
   ]
  },
  {
   "cell_type": "markdown",
   "metadata": {},
   "source": [
    "# Goal\n",
    "The goal is to provide datasets widely available and useful for data scientists. Thoth Team within the office of the CTO at Red Hat has collected datasets that can be made open source within the IT domain for training Machine Learning models."
   ]
  },
  {
   "cell_type": "markdown",
   "metadata": {},
   "source": [
    "# Content\n",
    "Thoth Security Dataset contains two folder respectively for the two Security Indicators Analzyers:\n",
    "\n",
    "1. [SI-bandit](https://github.com/thoth-station/si-bandit) is an analzer for security indicators based on [bandit](https://pypi.org/project/bandit/) Python package, a tool designed to find common security issues in Python code which has different [tests groups](https://readthedocs.org/projects/bandit/downloads/pdf/latest/):\n",
    "    *  B1xx misc tests\n",
    "    *  B2xx application/framework misconfiguration\n",
    "    *  B3xx blacklists (calls)\n",
    "    *  B4xx blacklists (imports)\n",
    "    *  B5xx cryptography\n",
    "    *  B6xx injection\n",
    "    *  B7xx XSS\n",
    "\n",
    "    Each test in a group has two assigned parameters:\n",
    "\n",
    "    * level of SEVERITY.\n",
    "    * level of CONFIDENCE.\n",
    "    \n",
    "    that are manually assigned.\n",
    "\n",
    "\n",
    "2. [SI-cloc](https://github.com/thoth-station/si-cloc) is an analzer for security indicators based on [cloc](https://github.com/AlDanial/cloc) RPM package that counts blank lines, comment lines, and physical lines of source code in many programming languages. It's important to take into account some of the known [limitations](https://github.com/AlDanial/cloc#limitations-):\n",
    "    *  Lines containing both source code and comments are counted as lines of code.\n",
    "    *  Python docstrings can serve several purposes. They may contain documentation, comment out blocks of code, or they can be regular strings (when they appear on the right hand side of an assignment or as a function argument). cloc is unable to infer the meaning of docstrings by context; by default cloc treats all docstrings as comments. The switch ``--docstring-as--code`` treats all docstrings as code.\n",
    "    *  Language definition files read with ``--read-lang-def`` or ``--force-lang-def`` must be plain ASCII text files."
   ]
  },
  {
   "cell_type": "markdown",
   "metadata": {},
   "source": [
    "# How you can use the Data\n",
    "You can download and use this data for free for your own purpose, all we ask is three things\n",
    "\n",
    "* you cite Thoth Team as the source if you use the data,\n",
    "* you accept that you are solely responsible for how you use the data\n",
    "* you do not sell this data to anyone, it is free!"
   ]
  },
  {
   "cell_type": "markdown",
   "metadata": {},
   "source": [
    "# Set environment variables to access the datasets on Ceph"
   ]
  },
  {
   "cell_type": "markdown",
   "metadata": {},
   "source": [
    "For more detail on the Operate First Ceph public bucket used here, visit https://github.com/operate-first/apps/blob/master/docs/odh/trino/access_public_bucket.md"
   ]
  },
  {
   "cell_type": "code",
   "execution_count": null,
   "metadata": {},
   "outputs": [],
   "source": [
    "%env THOTH_CEPH_KEY_ID=LLEzCoxu7pvjzO4inoL8\n",
    "%env THOTH_CEPH_SECRET_KEY=1HnDVoIS2jt3h3xEpgeQlCX5+FeOUH0wOrvWVvZP\n",
    "%env THOTH_CEPH_BUCKET_PREFIX=thoth\n",
    "%env THOTH_S3_ENDPOINT_URL=https://s3-openshift-storage.apps.smaug.na.operate-first.cloud\n",
    "%env THOTH_CEPH_BUCKET=opf-datacatalog\n",
    "%env THOTH_DEPLOYMENT_NAME=datasets"
   ]
  },
  {
   "cell_type": "markdown",
   "metadata": {},
   "source": [
    "# Import packages"
   ]
  },
  {
   "cell_type": "code",
   "execution_count": null,
   "metadata": {
    "ExecuteTime": {
     "end_time": "2020-07-06T10:25:09.149808Z",
     "start_time": "2020-07-06T10:25:07.698767Z"
    }
   },
   "outputs": [],
   "source": [
    "from thoth.report_processing.components.security import SecurityIndicatorsBandit, SecurityIndicatorsCloc\n",
    "from thoth.report_processing.components.security import SecurityIndicatorsAggregator\n",
    "from pathlib import Path\n",
    "import pandas as pd\n",
    "pd.set_option('display.max_columns', None)\n",
    "\n",
    "si_bandit = SecurityIndicatorsBandit()\n",
    "si_cloc = SecurityIndicatorsCloc()\n",
    "si_aggregated = SecurityIndicatorsAggregator()\n",
    "\n",
    "from pathlib import Path\n",
    "current_path = Path.cwd()\n",
    "\n",
    "analyzer_version = \"0.1.2\""
   ]
  },
  {
   "cell_type": "markdown",
   "metadata": {},
   "source": [
    "# Retrieve the data"
   ]
  },
  {
   "cell_type": "code",
   "execution_count": null,
   "metadata": {
    "ExecuteTime": {
     "end_time": "2020-07-06T11:59:59.920908Z",
     "start_time": "2020-07-06T10:25:11.154229Z"
    },
    "scrolled": true
   },
   "outputs": [],
   "source": [
    "security_indicator_bandit_reports = si_bandit.aggregate_security_indicator_bandit_results()"
   ]
  },
  {
   "cell_type": "code",
   "execution_count": null,
   "metadata": {
    "ExecuteTime": {
     "end_time": "2020-07-06T12:03:19.158453Z",
     "start_time": "2020-07-06T12:01:57.470511Z"
    },
    "scrolled": true
   },
   "outputs": [],
   "source": [
    "security_indicator_cloc_reports = SecurityIndicatorsCloc.aggregate_security_indicator_cloc_results(\n",
    "    security_indicator_cloc_repo_path=current_path.joinpath('security')\n",
    ")"
   ]
  },
  {
   "cell_type": "markdown",
   "metadata": {},
   "source": [
    "# Explore one report"
   ]
  },
  {
   "cell_type": "markdown",
   "metadata": {},
   "source": [
    "## security indicator bandit report"
   ]
  },
  {
   "cell_type": "code",
   "execution_count": null,
   "metadata": {
    "ExecuteTime": {
     "end_time": "2020-07-06T12:42:10.885295Z",
     "start_time": "2020-07-06T12:42:10.882177Z"
    },
    "scrolled": true
   },
   "outputs": [],
   "source": [
    "security_indicator_bandit_report = security_indicator_bandit_reports[700]"
   ]
  },
  {
   "cell_type": "markdown",
   "metadata": {},
   "source": [
    "Each Security Indicator bandit report is made by two main parts:\n",
    "* **metadata** where information about the analyzer (si-bandit) itself are stored (e.g version running, type of SI)\n",
    "* **result** where the inputs and outputs of the analyzer are actually collected "
   ]
  },
  {
   "cell_type": "markdown",
   "metadata": {
    "ExecuteTime": {
     "end_time": "2020-06-09T16:57:47.987982Z",
     "start_time": "2020-06-09T16:57:47.981019Z"
    }
   },
   "source": [
    "### Security Indicator bandit report metadata"
   ]
  },
  {
   "cell_type": "markdown",
   "metadata": {},
   "source": [
    "All the metadata available for each SI bandit report are described below:\n",
    "* **analyzer**, name of the analyzer;\n",
    "* **analyzer_version**, analyzer version;\n",
    "* **arguments**, arguments for the analyzer;\n",
    "    * **package_name** Python package name used for the analysis;\n",
    "    * **package_version** Python package version used for the analysis;\n",
    "    * **package_index** Python package index used for the analysis;\n",
    "    * **no_pretty** output style;\n",
    "    * **output** where the output is stored locally;\n",
    "* **datetime**, when the analyzer report has been created;\n",
    "* **distribution**, operating system specific info;\n",
    "* **document_id**, unique ID of the SI bandit report;\n",
    "* **duration**, duration of the analyzer run for a certain Python Package;\n",
    "* **hostname**, Container name where the analyzer was run;\n",
    "* **os_release**, OS info collected from `/etc/os-release`;\n",
    "* **python**, Python Interpreter info;\n",
    "* **thoth_deployment_name**, Thoth architecture specific info;\n",
    "* **timestamp**;"
   ]
  },
  {
   "cell_type": "code",
   "execution_count": null,
   "metadata": {
    "ExecuteTime": {
     "end_time": "2020-07-06T12:42:14.973104Z",
     "start_time": "2020-07-06T12:42:14.958765Z"
    }
   },
   "outputs": [],
   "source": [
    "metadata_df = si_bandit.create_si_bandit_metadata_dataframe(\n",
    "    si_bandit_report=security_indicator_bandit_report,\n",
    "    analyzer_version=analyzer_version\n",
    ")\n",
    "metadata_df"
   ]
  },
  {
   "cell_type": "markdown",
   "metadata": {},
   "source": [
    "### Security Indicator bandit report result"
   ]
  },
  {
   "cell_type": "markdown",
   "metadata": {},
   "source": [
    "All the result in SI bandit report are described below:\n",
    "* **generated_at**;\n",
    "* **metrics**, metrics collected from each file analyzed (summary of results);\n",
    "    * **CONFIDENCE** confidence on the severity of the security,\n",
    "        * **CONFIDENCE.HIGH** \n",
    "        * **CONFIDENCE.MEDIUM** \n",
    "        * **CONFIDENCE.LOW**\n",
    "        * **CONFIDENCE.UNDEFINED** \n",
    "    * **SEVERITY** level about security,\n",
    "        * **SEVERITY.HIGH** \n",
    "        * **SEVERITY.MEDIUM** \n",
    "        * **SEVERITY.LOW**\n",
    "        * **SEVERITY.UNDEFINED** \n",
    "    * **loc** location of the line,\n",
    "    * **nosec**, if the line in the file has been silenced,\n",
    "* **results**, information about external packages installed on the environment;\n",
    "* **errors**, errors encountered running SI bandit (if any);"
   ]
  },
  {
   "cell_type": "code",
   "execution_count": null,
   "metadata": {
    "ExecuteTime": {
     "end_time": "2020-07-06T12:42:18.156561Z",
     "start_time": "2020-07-06T12:42:17.922444Z"
    }
   },
   "outputs": [],
   "source": [
    "si_bandit_report_result_metrics_df = pd.DataFrame(security_indicator_bandit_report[\"result\"]['metrics'])\n",
    "si_bandit_report_result_metrics_df"
   ]
  },
  {
   "cell_type": "code",
   "execution_count": null,
   "metadata": {
    "ExecuteTime": {
     "end_time": "2020-07-06T12:43:25.226168Z",
     "start_time": "2020-07-06T12:43:25.213095Z"
    }
   },
   "outputs": [],
   "source": [
    "filename = si_bandit_report_result_metrics_df.columns.values[5]\n",
    "filename"
   ]
  },
  {
   "cell_type": "code",
   "execution_count": null,
   "metadata": {
    "ExecuteTime": {
     "end_time": "2020-07-06T12:43:26.080046Z",
     "start_time": "2020-07-06T12:43:26.061160Z"
    }
   },
   "outputs": [],
   "source": [
    "si_bandit_report_result_metrics_df[filename]"
   ]
  },
  {
   "cell_type": "code",
   "execution_count": null,
   "metadata": {
    "ExecuteTime": {
     "end_time": "2020-07-06T12:43:27.416953Z",
     "start_time": "2020-07-06T12:43:27.382801Z"
    }
   },
   "outputs": [],
   "source": [
    "si_bandit_report_result_results_df = pd.DataFrame(security_indicator_bandit_report[\"result\"]['results'])\n",
    "si_bandit_report_result_results_df"
   ]
  },
  {
   "cell_type": "code",
   "execution_count": null,
   "metadata": {
    "ExecuteTime": {
     "end_time": "2020-07-06T12:43:31.566452Z",
     "start_time": "2020-07-06T12:43:31.537929Z"
    },
    "scrolled": true
   },
   "outputs": [],
   "source": [
    "subset_df = si_bandit_report_result_results_df[si_bandit_report_result_results_df[\"filename\"].values == filename]\n",
    "subset_df"
   ]
  },
  {
   "cell_type": "code",
   "execution_count": null,
   "metadata": {
    "ExecuteTime": {
     "end_time": "2020-07-06T12:43:36.387568Z",
     "start_time": "2020-07-06T12:43:36.090076Z"
    }
   },
   "outputs": [],
   "source": [
    "security_confidence_df, summary_files = si_bandit.create_security_confidence_dataframe(\n",
    "    si_bandit_report=security_indicator_bandit_report\n",
    ")\n",
    "security_confidence_df"
   ]
  },
  {
   "cell_type": "code",
   "execution_count": null,
   "metadata": {
    "ExecuteTime": {
     "end_time": "2020-07-06T12:43:36.414781Z",
     "start_time": "2020-07-06T12:43:36.388764Z"
    },
    "scrolled": true
   },
   "outputs": [],
   "source": [
    "si_bandit_report_summary_df = si_bandit.produce_si_bandit_report_summary_dataframe(\n",
    "    metadata_df=metadata_df,\n",
    "    si_bandit_sec_conf_df=security_confidence_df,\n",
    "    summary_files=summary_files\n",
    "    \n",
    ")\n",
    "si_bandit_report_summary_df"
   ]
  },
  {
   "cell_type": "markdown",
   "metadata": {},
   "source": [
    "## security indicator cloc report"
   ]
  },
  {
   "cell_type": "code",
   "execution_count": null,
   "metadata": {
    "ExecuteTime": {
     "end_time": "2020-07-06T12:43:48.867861Z",
     "start_time": "2020-07-06T12:43:48.864943Z"
    }
   },
   "outputs": [],
   "source": [
    "security_indicator_cloc_report = security_indicator_cloc_reports[0]"
   ]
  },
  {
   "cell_type": "markdown",
   "metadata": {
    "ExecuteTime": {
     "end_time": "2020-06-16T09:08:16.819703Z",
     "start_time": "2020-06-16T09:08:16.805977Z"
    }
   },
   "source": [
    "Each Security Indicator cloc report is made by two main parts:\n",
    "* **metadata** where information about the analyzer (si-cloc) itself are stored (e.g version running, type of SI)\n",
    "* **result** where the inputs and outputs of the analyzer are actually collected "
   ]
  },
  {
   "cell_type": "markdown",
   "metadata": {},
   "source": [
    "### Security Indicator cloc report metadata"
   ]
  },
  {
   "cell_type": "markdown",
   "metadata": {},
   "source": [
    "All the metadata available for each SI bandit report are described below:\n",
    "* **analyzer**, name of the analyzer;\n",
    "* **analyzer_version**, analyzer version;\n",
    "* **arguments**, arguments for the analyzer;\n",
    "    * **package_name** Python package name used for the analysis;\n",
    "    * **package_version** Python package version used for the analysis;\n",
    "    * **package_index** Python package index used for the analysis;\n",
    "    * **no_pretty** output style;\n",
    "    * **output** where the output is stored locally;\n",
    "* **datetime**, when the analyzer report has been created;\n",
    "* **distribution**, operating system specific info;\n",
    "* **document_id**, unique ID of the SI bandit report;\n",
    "* **duration**, duration of the analyzer run for a certain Python Package;\n",
    "* **hostname**, Container name where the analyzer was run;\n",
    "* **os_release**, OS info collected from `/etc/os-release`;\n",
    "* **python**, Python Interpreter info;\n",
    "* **thoth_deployment_name**, Thoth architecture specific info;\n",
    "* **timestamp**;"
   ]
  },
  {
   "cell_type": "code",
   "execution_count": null,
   "metadata": {
    "ExecuteTime": {
     "end_time": "2020-07-06T12:44:26.498510Z",
     "start_time": "2020-07-06T12:44:26.483817Z"
    }
   },
   "outputs": [],
   "source": [
    "metadata_df = si_cloc.create_si_cloc_metadata_dataframe(\n",
    "    si_cloc_report=security_indicator_cloc_report\n",
    ")\n",
    "metadata_df"
   ]
  },
  {
   "cell_type": "markdown",
   "metadata": {
    "ExecuteTime": {
     "end_time": "2020-06-16T09:12:06.499321Z",
     "start_time": "2020-06-16T09:12:05.943107Z"
    }
   },
   "source": [
    "### Security Indicator cloc report result"
   ]
  },
  {
   "cell_type": "markdown",
   "metadata": {
    "ExecuteTime": {
     "end_time": "2020-06-16T09:25:09.840078Z",
     "start_time": "2020-06-16T09:25:09.833411Z"
    }
   },
   "source": [
    "All the result in SI bandit report are described below:\n",
    "* **header**;\n",
    "    * **cloc_url** cloc source,\n",
    "    * **cloc_version** cloc version,\n",
    "    * **elapsed_seconds** time to evaluate a package,\n",
    "    * **files_per_second** number of files analyzed per second,\n",
    "    * **lines_per_second** number of lines analyzed per second,\n",
    "    * **n_files** total number of files analyzed,\n",
    "    * **n_lines** total number of lines analyzed,\n",
    "* **{programming_language}**, different key for each programming_language (e.g. Python) files;\n",
    "    * **blank** number of blank lines,\n",
    "    * **code** number of code lines,\n",
    "    * **comment** number of code lines,\n",
    "    * **nFiles** number of files considered,\n",
    "* **SUM**, sum of all info from the different progamming languages outputs;\n",
    "    * **blank** number of blank lines,\n",
    "    * **code** number of code lines,\n",
    "    * **comment** number of code lines,\n",
    "    * **nFiles** number of files considered."
   ]
  },
  {
   "cell_type": "code",
   "execution_count": null,
   "metadata": {
    "ExecuteTime": {
     "end_time": "2020-07-06T12:44:29.288974Z",
     "start_time": "2020-07-06T12:44:29.256749Z"
    }
   },
   "outputs": [],
   "source": [
    "results_df = si_cloc.create_si_cloc_results_dataframe(si_cloc_report=security_indicator_cloc_report)\n",
    "results_df"
   ]
  },
  {
   "cell_type": "code",
   "execution_count": null,
   "metadata": {
    "ExecuteTime": {
     "end_time": "2020-07-06T12:44:29.797660Z",
     "start_time": "2020-07-06T12:44:29.762752Z"
    }
   },
   "outputs": [],
   "source": [
    "summary_df = si_cloc.produce_si_cloc_report_summary_dataframe(\n",
    "    metadata_df=metadata_df,\n",
    "    cloc_results_df=results_df\n",
    ")\n",
    "summary_df"
   ]
  },
  {
   "cell_type": "markdown",
   "metadata": {},
   "source": [
    "# Consider all bandit security reports"
   ]
  },
  {
   "cell_type": "code",
   "execution_count": null,
   "metadata": {
    "ExecuteTime": {
     "end_time": "2020-07-06T12:03:53.545467Z",
     "start_time": "2020-07-06T12:03:53.543176Z"
    }
   },
   "outputs": [],
   "source": [
    "FILTER_FILES = [\"tests/\", \"/test\"]"
   ]
  },
  {
   "cell_type": "code",
   "execution_count": null,
   "metadata": {
    "ExecuteTime": {
     "end_time": "2020-07-06T12:08:03.033878Z",
     "start_time": "2020-07-06T12:03:53.773368Z"
    },
    "scrolled": true
   },
   "outputs": [],
   "source": [
    "final_df = si_bandit.aggregate_si_bandit_final_dataframe(\n",
    "    si_bandit_reports=security_indicator_bandit_reports,\n",
    "    filters_files=FILTER_FILES,\n",
    "    analyzer_version=analyzer_version\n",
    ")"
   ]
  },
  {
   "cell_type": "code",
   "execution_count": null,
   "metadata": {
    "ExecuteTime": {
     "end_time": "2020-07-06T12:08:03.055309Z",
     "start_time": "2020-07-06T12:08:03.036965Z"
    }
   },
   "outputs": [],
   "source": [
    "final_df.shape"
   ]
  },
  {
   "cell_type": "code",
   "execution_count": null,
   "metadata": {
    "ExecuteTime": {
     "end_time": "2020-07-06T12:10:42.213318Z",
     "start_time": "2020-07-06T12:10:42.196735Z"
    }
   },
   "outputs": [],
   "source": [
    "final_df.drop_duplicates(\n",
    "    subset=['analyzer_version_si_bandit', 'package_name', \"package_version\", \"package_index\"], inplace=True\n",
    ")\n",
    "final_df.shape"
   ]
  },
  {
   "cell_type": "code",
   "execution_count": null,
   "metadata": {
    "ExecuteTime": {
     "end_time": "2020-07-06T12:44:33.927274Z",
     "start_time": "2020-07-06T12:44:33.889342Z"
    }
   },
   "outputs": [],
   "source": [
    "final_df.head()"
   ]
  },
  {
   "cell_type": "code",
   "execution_count": null,
   "metadata": {
    "ExecuteTime": {
     "end_time": "2020-07-06T12:44:34.671883Z",
     "start_time": "2020-07-06T12:44:34.540980Z"
    }
   },
   "outputs": [],
   "source": [
    "final_df.describe()"
   ]
  },
  {
   "cell_type": "markdown",
   "metadata": {},
   "source": [
    "## Define final score and plot results"
   ]
  },
  {
   "cell_type": "code",
   "execution_count": null,
   "metadata": {
    "ExecuteTime": {
     "end_time": "2020-07-06T12:14:57.948377Z",
     "start_time": "2020-07-06T12:14:57.907603Z"
    },
    "scrolled": true
   },
   "outputs": [],
   "source": [
    "final_df = si_bandit.create_security_indicators_scores(si_bandit_df=final_df)"
   ]
  },
  {
   "cell_type": "code",
   "execution_count": null,
   "metadata": {
    "ExecuteTime": {
     "end_time": "2020-07-06T12:44:44.859250Z",
     "start_time": "2020-07-06T12:44:44.824382Z"
    }
   },
   "outputs": [],
   "source": [
    "final_df.head()"
   ]
  },
  {
   "cell_type": "code",
   "execution_count": null,
   "metadata": {
    "ExecuteTime": {
     "end_time": "2020-07-06T12:44:45.764484Z",
     "start_time": "2020-07-06T12:44:45.631336Z"
    }
   },
   "outputs": [],
   "source": [
    "final_df.describe()"
   ]
  },
  {
   "cell_type": "code",
   "execution_count": null,
   "metadata": {
    "ExecuteTime": {
     "end_time": "2020-07-06T12:41:02.876304Z",
     "start_time": "2020-07-06T12:41:02.834039Z"
    },
    "scrolled": true
   },
   "outputs": [],
   "source": [
    "sorted_df = final_df.sort_values(by=['SEVERITY.score.normalized', 'SEVERITY.HIGH.sub_score', 'SEVERITY.MEDIUM.sub_score', 'SEVERITY.LOW.sub_score'], ascending=False)\n",
    "sorted_df.head()"
   ]
  },
  {
   "cell_type": "code",
   "execution_count": null,
   "metadata": {},
   "outputs": [],
   "source": [
    "import os\n",
    "import matplotlib.pyplot as plt\n",
    "from typing import List\n",
    "import numpy as np\n",
    "import plotly.graph_objects as go\n",
    "\n",
    "from kaleido.scopes.plotly import PlotlyScope\n",
    "scope = PlotlyScope()\n",
    "\n",
    "pd.options.plotting.backend = \"matplotlib\"\n",
    "\n",
    "if not os.path.exists(\"images\"):\n",
    "    os.mkdir(\"images\")\n",
    "\n",
    "def create_vulnerabilities_plot(\n",
    "    security_df: pd.DataFrame,\n",
    "    security_infos: List[str],\n",
    "    title_plot: str\n",
    "):\n",
    "    \"\"\"Plot vulnerabilities for all packages.\"\"\"\n",
    "    security_df['package_name_version'] = security_df['package_name'].values + \"_\" +security_df['package_version'].values\n",
    "    if pd.options.plotting.backend == \"matplotlib\":\n",
    "        fig= plt.figure(figsize=(15,10))\n",
    "        plt.title(title_plot, color='black', fontsize=20)\n",
    "        \n",
    "        security_df.plot(x='package_name_version', y=security_infos, ax=fig.gca())\n",
    "        plt.legend(loc='center left', bbox_to_anchor=(1.0, 0.5))\n",
    "        locs, labels=plt.xticks()\n",
    "        degrees = 70\n",
    "        plt.xticks(\n",
    "            np.arange(0, len(security_df['package_name_version'].values)),\n",
    "            security_df['package_name_version'].values,\n",
    "            rotation=degrees) \n",
    "        plt.grid()\n",
    "\n",
    "    else:\n",
    "        x = security_df['package_name_version'].values\n",
    "        \n",
    "        data = []\n",
    "        for security_info in security_infos:\n",
    "            y = security_df[security_info].values\n",
    "\n",
    "            trace = go.Scatter(\n",
    "                x=x,\n",
    "                y=y,\n",
    "                mode=\"markers\",\n",
    "                hovertext=security_df['package_name_version'].values,\n",
    "                hoverinfo=\"text\",\n",
    "                marker=dict(\n",
    "                    size=12,\n",
    "                    opacity=0.8,\n",
    "                ),\n",
    "                name=f\"{security_info}\",\n",
    "            )\n",
    "        \n",
    "            data.append(trace)\n",
    "\n",
    "        layout = go.Layout(\n",
    "            title=title_plot,\n",
    "            xaxis=dict(title=\"Python package name_version\", tickangle=45),\n",
    "            yaxis=dict(title=\"score\"),\n",
    "            showlegend=True,\n",
    "            legend=dict(orientation=\"h\", y=-0.3, yanchor=\"top\"),\n",
    "        )\n",
    "\n",
    "        fig = go.Figure(data=data, layout=layout)\n",
    "        fig.show()\n",
    "\n",
    "        with open(f\"images/{title_plot}.png\", \"wb\") as f:\n",
    "            f.write(scope.transform(fig, format=\"png\"))\n",
    "\n",
    "def create_package_releases_vulnerabilities_trend(\n",
    "    security_df: pd.DataFrame,\n",
    "    package_name: str,\n",
    "    package_index: str,\n",
    "    security_infos: List[str]\n",
    "):\n",
    "    \"\"\"Plot vulnerabilities trend for a Python package.\"\"\"\n",
    "    subset_df = security_df[(sorted_df[\"package_name\"] == package_name) & (security_df[\"package_index\"] == package_index)]\n",
    "    subset_df = subset_df.sort_values(by='package_version')\n",
    "    if subset_df.empty:\n",
    "        print(f\"No versions identified for package {package_name} from index {package_index}\")\n",
    "        return\n",
    "    \n",
    "    if pd.options.plotting.backend == \"matplotlib\":\n",
    "        title_plot = f\"Vulnerabilities trend for package {package_name} from index {package_index}\"\n",
    "        fig= plt.figure(figsize=(15,10))\n",
    "\n",
    "        plt.title(title_plot, color='black', fontsize=20)\n",
    "        subset_df.plot(x='package_version', y=security_infos, ax=fig.gca())\n",
    "        x_ticks = [str(v) for v in subset_df.sort_values(by='package_version')['package_version'].values]\n",
    "        degrees = 70\n",
    "        plt.xticks(\n",
    "            np.arange(0, len(x_ticks)),\n",
    "            x_ticks,\n",
    "            rotation=degrees)\n",
    "        plt.xlabel('package_verions', fontsize=30)\n",
    "        plt.ylabel('score', fontsize=16, fontname=\"Bold\")\n",
    "        plt.grid()\n",
    "    else:\n",
    "        image_name = f\"Vulnerabilities trend for package {package_name}\"\n",
    "        title_plot = f\"Vulnerabilities trend for package <b>{package_name}</b> from index <b>{package_index}</b>\"\n",
    "        x = security_df['package_version'].values\n",
    "        \n",
    "        data = []\n",
    "        for security_info in security_infos:\n",
    "            y = subset_df[security_info].values\n",
    "\n",
    "            trace = go.Scatter(\n",
    "                x=x,\n",
    "                y=y,\n",
    "                mode=\"markers + lines\",\n",
    "                hovertext=subset_df['package_version'].values,\n",
    "                hoverinfo=\"text\",\n",
    "                marker=dict(\n",
    "                    size=6,\n",
    "                    opacity=0.8,\n",
    "                ),\n",
    "                name=f\"{security_info}\",\n",
    "            )\n",
    "        \n",
    "            data.append(trace)\n",
    "\n",
    "        layout = go.Layout(\n",
    "            title=title_plot,\n",
    "            xaxis=dict(title=\"Python package version\", tickangle=45),\n",
    "            yaxis=dict(title=\"score\"),\n",
    "            showlegend=True,\n",
    "            legend=dict(orientation=\"h\", y=-0.3, yanchor=\"top\"),\n",
    "        )\n",
    "\n",
    "        fig = go.Figure(data=data, layout=layout)\n",
    "        fig.show()\n",
    "\n",
    "        with open(f\"images/{image_name}.png\", \"wb\") as f:\n",
    "            f.write(scope.transform(fig, format=\"png\"))\n"
   ]
  },
  {
   "cell_type": "code",
   "execution_count": null,
   "metadata": {
    "ExecuteTime": {
     "end_time": "2020-07-06T12:41:03.619739Z",
     "start_time": "2020-07-06T12:41:03.574299Z"
    }
   },
   "outputs": [],
   "source": [
    "create_vulnerabilities_plot(\n",
    "    security_df=sorted_df.head(20),\n",
    "    title_plot=\"Vulnerability score for Python Packages\",\n",
    "    security_infos=[\n",
    "        'SEVERITY.score',\n",
    "    ]\n",
    ")"
   ]
  },
  {
   "cell_type": "code",
   "execution_count": null,
   "metadata": {},
   "outputs": [],
   "source": [
    "create_package_releases_vulnerabilities_trend(\n",
    "    security_df=sorted_df,\n",
    "    package_name=\"werkzeug\",\n",
    "    package_index=\"https://pypi.org/simple\",\n",
    "    security_infos=[\n",
    "        'SEVERITY.HIGH.sub_score',\n",
    "        'SEVERITY.MEDIUM.sub_score',\n",
    "        'SEVERITY.LOW.sub_score'\n",
    "    ]\n",
    ")"
   ]
  },
  {
   "cell_type": "markdown",
   "metadata": {},
   "source": [
    "# Consider all cloc security reports"
   ]
  },
  {
   "cell_type": "code",
   "execution_count": null,
   "metadata": {
    "ExecuteTime": {
     "end_time": "2020-07-06T12:33:37.196419Z",
     "start_time": "2020-07-06T12:33:36.214125Z"
    }
   },
   "outputs": [],
   "source": [
    "si_cloc_total_df = si_cloc.aggregate_si_cloc_final_dataframes(\n",
    "    si_cloc_reports=security_indicator_cloc_reports\n",
    ")"
   ]
  },
  {
   "cell_type": "code",
   "execution_count": null,
   "metadata": {
    "ExecuteTime": {
     "end_time": "2020-07-06T13:01:26.227006Z",
     "start_time": "2020-07-06T13:01:26.214611Z"
    }
   },
   "outputs": [],
   "source": [
    "si_cloc_total_df.drop_duplicates(\n",
    "    subset=['analyzer_version_si_cloc', 'package_name', \"package_version\", \"package_index\"], inplace=True\n",
    ")\n",
    "si_cloc_total_df.shape"
   ]
  },
  {
   "cell_type": "code",
   "execution_count": null,
   "metadata": {
    "ExecuteTime": {
     "end_time": "2020-07-06T13:01:27.366665Z",
     "start_time": "2020-07-06T13:01:27.178215Z"
    }
   },
   "outputs": [],
   "source": [
    "si_cloc_total_df.head(10)"
   ]
  }
 ],
 "metadata": {
  "kernelspec": {
   "display_name": "Python 3 (ipykernel)",
   "language": "python",
   "name": "python3"
  },
  "language_info": {
   "codemirror_mode": {
    "name": "ipython",
    "version": 3
   },
   "file_extension": ".py",
   "mimetype": "text/x-python",
   "name": "python",
   "nbconvert_exporter": "python",
   "pygments_lexer": "ipython3",
   "version": "3.8.6"
  },
  "toc": {
   "base_numbering": 1,
   "nav_menu": {},
   "number_sections": true,
   "sideBar": true,
   "skip_h1_title": false,
   "title_cell": "Table of Contents",
   "title_sidebar": "Contents",
   "toc_cell": true,
   "toc_position": {
    "height": "calc(100% - 180px)",
    "left": "10px",
    "top": "150px",
    "width": "511.989px"
   },
   "toc_section_display": true,
   "toc_window_display": true
  }
 },
 "nbformat": 4,
 "nbformat_minor": 4
}
